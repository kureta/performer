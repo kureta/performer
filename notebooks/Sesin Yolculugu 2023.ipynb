{
 "cells": [
  {
   "cell_type": "code",
   "execution_count": null,
   "id": "2dbf5ebe",
   "metadata": {
    "tags": []
   },
   "outputs": [],
   "source": [
    "%matplotlib inline\n",
    "\n",
    "import matplotlib.pyplot as plt\n",
    "\n",
    "import numpy as np\n",
    "import librosa\n",
    "import librosa.display\n",
    "import soundfile as sf\n",
    "\n",
    "from IPython.display import Audio"
   ]
  },
  {
   "cell_type": "markdown",
   "id": "88b40c82",
   "metadata": {},
   "source": [
    "## TODO:\n",
    "\n",
    "Maybe pick peaks, or lowpass filter or something. I guess we are taking all the indices surrounding a peak in this method.\n",
    "\n",
    "Especially for the FFT case, try to fin most important bands somehow."
   ]
  },
  {
   "cell_type": "code",
   "execution_count": null,
   "id": "c6a4b406",
   "metadata": {
    "tags": []
   },
   "outputs": [],
   "source": [
    "DEO_PATH = \"/home/kureta/Music/deo.wav\"\n",
    "SAMPLE_RATE = 48000\n",
    "NFFT = 1024\n",
    "HOP_LENGTH = 512"
   ]
  },
  {
   "cell_type": "code",
   "execution_count": null,
   "id": "9c14794d",
   "metadata": {
    "tags": []
   },
   "outputs": [],
   "source": [
    "audio, sr = librosa.load(DEO_PATH, sr=SAMPLE_RATE, mono=False)"
   ]
  },
  {
   "cell_type": "markdown",
   "id": "f8a60ddf",
   "metadata": {},
   "source": [
    "## Canon for 1 Voice in STFT"
   ]
  },
  {
   "cell_type": "code",
   "execution_count": null,
   "id": "3c9a1db6",
   "metadata": {
    "tags": []
   },
   "outputs": [],
   "source": [
    "stft = librosa.stft(audio, n_fft=NFFT, hop_length=HOP_LENGTH)\n",
    "sdb = librosa.amplitude_to_db(np.abs(stft), top_db=120)\n",
    "mono = sdb.mean(axis=0)"
   ]
  },
  {
   "cell_type": "code",
   "execution_count": null,
   "id": "e89f9ab0-25b0-4b59-9961-e85a92b2f01a",
   "metadata": {
    "tags": []
   },
   "outputs": [],
   "source": [
    "mono.shape"
   ]
  },
  {
   "cell_type": "code",
   "execution_count": null,
   "id": "4532ecbd",
   "metadata": {
    "tags": []
   },
   "outputs": [],
   "source": [
    "indices = np.where(mono.mean(axis=1) > -24.)[0]\n",
    "indices = sorted(indices, key=lambda x: mono.mean(axis=1)[x])\n",
    "indices = np.array(indices)\n",
    "indices = indices[(indices > 4) & (indices < 128)]\n",
    "print(len(indices))"
   ]
  },
  {
   "cell_type": "code",
   "execution_count": null,
   "id": "8af29f6b-4cf7-4a4f-8a24-63eb06b396e0",
   "metadata": {
    "tags": []
   },
   "outputs": [],
   "source": [
    "for i in range(27):\n",
    "    print(i*7.5-97.5)"
   ]
  },
  {
   "cell_type": "code",
   "execution_count": null,
   "id": "2ed630dc",
   "metadata": {
    "tags": []
   },
   "outputs": [],
   "source": [
    "sounds = []\n",
    "for idx in indices:\n",
    "    pick = np.zeros_like(stft)\n",
    "    pick[:, idx, :] = 1\n",
    "    sounds.append(librosa.istft(stft * pick, hop_length=HOP_LENGTH))"
   ]
  },
  {
   "cell_type": "code",
   "execution_count": null,
   "id": "910f6601",
   "metadata": {
    "tags": []
   },
   "outputs": [],
   "source": [
    "Audio(data=np.concatenate(np.cumsum(sounds, axis=0), axis=1), rate=SAMPLE_RATE)"
   ]
  },
  {
   "cell_type": "code",
   "execution_count": null,
   "id": "46df5acd",
   "metadata": {
    "tags": []
   },
   "outputs": [],
   "source": [
    "Audio(data=np.concatenate(sounds, axis=1), rate=SAMPLE_RATE)"
   ]
  },
  {
   "cell_type": "code",
   "execution_count": null,
   "id": "cffd5afa-19f2-42b0-b908-d2813c8003fc",
   "metadata": {
    "tags": []
   },
   "outputs": [],
   "source": [
    "sf.write('/home/kureta/Music/deo-solo.wav', np.concatenate(sounds, axis=1).T, SAMPLE_RATE, subtype='PCM_24')"
   ]
  },
  {
   "cell_type": "code",
   "execution_count": null,
   "id": "40b8ed6f",
   "metadata": {
    "tags": []
   },
   "outputs": [],
   "source": [
    "for idx, sound in enumerate(sounds):\n",
    "    sf.write(f'/home/kureta/Music/deo-{idx+1:02d}.wav', sound.T, SAMPLE_RATE, subtype='PCM_24')"
   ]
  },
  {
   "cell_type": "markdown",
   "id": "0949bcfc",
   "metadata": {},
   "source": [
    "## Canon for 1 Voice in FFT"
   ]
  },
  {
   "cell_type": "code",
   "execution_count": null,
   "id": "b74cb151",
   "metadata": {
    "tags": []
   },
   "outputs": [],
   "source": [
    "fft = np.fft.rfft(audio)\n",
    "sdb = librosa.amplitude_to_db(np.abs(fft), top_db=120)\n",
    "mono = sdb.mean(axis=0)\n",
    "mono[8000:] = -120"
   ]
  },
  {
   "cell_type": "code",
   "execution_count": null,
   "id": "19e4ed46-00f7-4d83-a33e-2a6f91d48f8e",
   "metadata": {
    "tags": []
   },
   "outputs": [],
   "source": [
    "peaks = librosa.util.peak_pick(mono[:8000], pre_max=100, post_max=100, pre_avg=100, post_avg=100, delta=10, wait=50)\n",
    "plt.vlines(peaks, 0, 1)\n",
    "print(len(peaks))"
   ]
  },
  {
   "cell_type": "code",
   "execution_count": null,
   "id": "31f9058b",
   "metadata": {
    "tags": []
   },
   "outputs": [],
   "source": [
    "plt.plot(mono[:8000])"
   ]
  },
  {
   "cell_type": "code",
   "execution_count": null,
   "id": "d28bf902",
   "metadata": {
    "tags": []
   },
   "outputs": [],
   "source": [
    "# indices = np.where(mono > 40.)[0]\n",
    "indices = peaks\n",
    "print(len(indices))\n",
    "np.random.shuffle(indices)"
   ]
  },
  {
   "cell_type": "code",
   "execution_count": null,
   "id": "a3300262",
   "metadata": {
    "tags": []
   },
   "outputs": [],
   "source": [
    "sounds = []\n",
    "for idx in indices:\n",
    "    pick = np.zeros_like(fft)\n",
    "    pick[:, idx] = 1\n",
    "    sounds.append(np.fft.irfft(fft * pick))"
   ]
  },
  {
   "cell_type": "code",
   "execution_count": null,
   "id": "55c55b03",
   "metadata": {
    "tags": []
   },
   "outputs": [],
   "source": [
    "Audio(data=np.concatenate(np.cumsum(sounds, axis=0), axis=1), rate=SAMPLE_RATE)"
   ]
  },
  {
   "cell_type": "code",
   "execution_count": null,
   "id": "a773eadc",
   "metadata": {
    "tags": []
   },
   "outputs": [],
   "source": [
    "Audio(data=np.concatenate(sounds, axis=1), rate=SAMPLE_RATE)"
   ]
  },
  {
   "cell_type": "code",
   "execution_count": null,
   "id": "b1bf4cd0",
   "metadata": {},
   "outputs": [],
   "source": []
  }
 ],
 "metadata": {
  "kernelspec": {
   "display_name": "Python 3 (ipykernel)",
   "language": "python",
   "name": "python3"
  },
  "language_info": {
   "codemirror_mode": {
    "name": "ipython",
    "version": 3
   },
   "file_extension": ".py",
   "mimetype": "text/x-python",
   "name": "python",
   "nbconvert_exporter": "python",
   "pygments_lexer": "ipython3",
   "version": "3.10.10"
  }
 },
 "nbformat": 4,
 "nbformat_minor": 5
}

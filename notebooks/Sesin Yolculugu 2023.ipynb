{
 "cells": [
  {
   "cell_type": "code",
   "execution_count": null,
   "id": "2dbf5ebe",
   "metadata": {},
   "outputs": [],
   "source": [
    "%matplotlib inline\n",
    "\n",
    "import matplotlib.pyplot as plt\n",
    "\n",
    "import numpy as np\n",
    "import librosa\n",
    "import librosa.display\n",
    "import soundfile as sf\n",
    "\n",
    "from IPython.display import Audio"
   ]
  },
  {
   "cell_type": "markdown",
   "id": "88b40c82",
   "metadata": {},
   "source": [
    "## TODO:\n",
    "\n",
    "Maybe pick peaks, or lowpass filter or something. I guess we are taking all the indices surrounding a peak in this method.\n",
    "\n",
    "Especially for the FFT case, try to fin most important bands somehow."
   ]
  },
  {
   "cell_type": "code",
   "execution_count": null,
   "id": "c6a4b406",
   "metadata": {},
   "outputs": [],
   "source": [
    "DEO_PATH = \"/home/kureta/Music/deo.wav\"\n",
    "SAMPLE_RATE = 48000\n",
    "NFFT = 1024\n",
    "HOP_LENGTH = 512"
   ]
  },
  {
   "cell_type": "code",
   "execution_count": null,
   "id": "9c14794d",
   "metadata": {},
   "outputs": [],
   "source": [
    "audio, sr = librosa.load(DEO_PATH, sr=SAMPLE_RATE, mono=False)"
   ]
  },
  {
   "cell_type": "markdown",
   "id": "f8a60ddf",
   "metadata": {},
   "source": [
    "## Canon for 1 Voice in STFT"
   ]
  },
  {
   "cell_type": "code",
   "execution_count": null,
   "id": "3c9a1db6",
   "metadata": {},
   "outputs": [],
   "source": [
    "stft = librosa.stft(audio, n_fft=NFFT, hop_length=HOP_LENGTH)\n",
    "sdb = librosa.amplitude_to_db(np.abs(stft), top_db=120)\n",
    "mono = sdb.mean(axis=0)"
   ]
  },
  {
   "cell_type": "code",
   "execution_count": null,
   "id": "4532ecbd",
   "metadata": {},
   "outputs": [],
   "source": [
    "indices = np.where(mono.mean(axis=1) > -24.)[0]\n",
    "print(len(indices))\n",
    "np.random.shuffle(indices)"
   ]
  },
  {
   "cell_type": "code",
   "execution_count": null,
   "id": "2ed630dc",
   "metadata": {},
   "outputs": [],
   "source": [
    "sounds = []\n",
    "for idx in indices:\n",
    "    pick = np.zeros_like(stft)\n",
    "    pick[:, idx, :] = 1\n",
    "    sounds.append(librosa.istft(stft * pick, hop_length=HOP_LENGTH))"
   ]
  },
  {
   "cell_type": "code",
   "execution_count": null,
   "id": "910f6601",
   "metadata": {},
   "outputs": [],
   "source": [
    "Audio(data=np.concatenate(np.cumsum(sounds, axis=0), axis=1), rate=SAMPLE_RATE)"
   ]
  },
  {
   "cell_type": "code",
   "execution_count": null,
   "id": "46df5acd",
   "metadata": {},
   "outputs": [],
   "source": [
    "Audio(data=np.concatenate(sounds, axis=1), rate=SAMPLE_RATE)"
   ]
  },
  {
   "cell_type": "code",
   "execution_count": null,
   "id": "40b8ed6f",
   "metadata": {},
   "outputs": [],
   "source": [
    "for idx, sound in enumerate(sounds):\n",
    "    sf.write(f'/home/kureta/Music/deo-{idx+1:02d}.wav', sound.T, SAMPLE_RATE, subtype='PCM_24')"
   ]
  },
  {
   "cell_type": "markdown",
   "id": "0949bcfc",
   "metadata": {},
   "source": [
    "## Canon for 1 Voice in FFT"
   ]
  },
  {
   "cell_type": "code",
   "execution_count": null,
   "id": "b74cb151",
   "metadata": {},
   "outputs": [],
   "source": [
    "fft = np.fft.rfft(audio)\n",
    "sdb = librosa.amplitude_to_db(np.abs(fft), top_db=120)\n",
    "mono = sdb.mean(axis=0)\n",
    "mono[8000:] = -120"
   ]
  },
  {
   "cell_type": "code",
   "execution_count": null,
   "id": "31f9058b",
   "metadata": {},
   "outputs": [],
   "source": [
    "plt.plot(mono)"
   ]
  },
  {
   "cell_type": "code",
   "execution_count": null,
   "id": "d28bf902",
   "metadata": {},
   "outputs": [],
   "source": [
    "indices = np.where(mono > 40.)[0]\n",
    "print(len(indices))\n",
    "np.random.shuffle(indices)"
   ]
  },
  {
   "cell_type": "code",
   "execution_count": null,
   "id": "a3300262",
   "metadata": {},
   "outputs": [],
   "source": [
    "sounds = []\n",
    "for idx in indices:\n",
    "    pick = np.zeros_like(fft)\n",
    "    pick[:, idx] = 1\n",
    "    sounds.append(np.fft.irfft(fft * pick))"
   ]
  },
  {
   "cell_type": "code",
   "execution_count": null,
   "id": "55c55b03",
   "metadata": {},
   "outputs": [],
   "source": [
    "Audio(data=np.concatenate(np.cumsum(sounds, axis=0), axis=1), rate=SAMPLE_RATE)"
   ]
  },
  {
   "cell_type": "code",
   "execution_count": null,
   "id": "a773eadc",
   "metadata": {},
   "outputs": [],
   "source": [
    "Audio(data=np.concatenate(sounds, axis=1), rate=SAMPLE_RATE)"
   ]
  },
  {
   "cell_type": "code",
   "execution_count": null,
   "id": "b1bf4cd0",
   "metadata": {},
   "outputs": [],
   "source": []
  }
 ],
 "metadata": {
  "kernelspec": {
   "display_name": "Python 3 (ipykernel)",
   "language": "python",
   "name": "python3"
  },
  "language_info": {
   "codemirror_mode": {
    "name": "ipython",
    "version": 3
   },
   "file_extension": ".py",
   "mimetype": "text/x-python",
   "name": "python",
   "nbconvert_exporter": "python",
   "pygments_lexer": "ipython3",
   "version": "3.10.10"
  }
 },
 "nbformat": 4,
 "nbformat_minor": 5
}

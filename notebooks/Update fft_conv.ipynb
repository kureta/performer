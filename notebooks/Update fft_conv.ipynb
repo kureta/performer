{
 "cells": [
  {
   "cell_type": "code",
   "execution_count": null,
   "id": "20ec3847",
   "metadata": {},
   "outputs": [],
   "source": [
    "%matplotlib inline\n",
    "\n",
    "import matplotlib.pyplot as plt\n",
    "\n",
    "import torch\n",
    "import torch.fft as fft\n",
    "import torch.nn.functional as F \n",
    "\n",
    "from performer.models.components.fft_conv import fft_conv1d, pad_to, unfold, fft_conv1d_new"
   ]
  },
  {
   "cell_type": "code",
   "execution_count": null,
   "id": "d40d91e7",
   "metadata": {},
   "outputs": [],
   "source": [
    "signal = torch.zeros(4, 1, 480*4)\n",
    "signal[..., 0] = 1.\n",
    "signal[..., 300] = 1.\n",
    "signal[..., 500] = 1.\n",
    "signal[..., 800] = 1.\n",
    "ir = torch.zeros(2, 1, 480*3)\n",
    "ir[..., 0] = 1.\n",
    "ir[..., 1439] = 1."
   ]
  },
  {
   "cell_type": "code",
   "execution_count": null,
   "id": "8d9eaa6d",
   "metadata": {},
   "outputs": [],
   "source": [
    "# Working standard convolution\n",
    "sig_pad = ir.shape[-1] - 1\n",
    "padded_signal = F.pad(signal, (sig_pad, sig_pad))\n",
    "# padded_signal = torch.cat([signal[..., -sig_pad:], signal], dim=-1)\n",
    "\n",
    "conv_out = F.conv1d(padded_signal, ir.flip(-1))\n",
    "conv_out.shape\n",
    "\n",
    "# torch.allclose(signal[0, 0], conv_out[0, 0])"
   ]
  },
  {
   "cell_type": "code",
   "execution_count": null,
   "id": "b1e25e0c",
   "metadata": {},
   "outputs": [],
   "source": [
    "# Working FFT convolution\n",
    "sig_pad = ir.shape[-1] - 1\n",
    "padded_signal = F.pad(signal, (sig_pad, sig_pad))\n",
    "\n",
    "end_pad = padded_signal.shape[-1] - ir.shape[-1]\n",
    "padded_ir = F.pad(ir, (0, end_pad))\n",
    "\n",
    "ir_z = fft.rfft(padded_ir)\n",
    "signal_z = fft.rfft(padded_signal)\n",
    "\n",
    "fft_conv_out = signal_z.transpose(0, 1) * ir_z.conj()\n",
    "fft_conv_out = fft_conv_out.transpose(0, 1)\n",
    "\n",
    "fft_conv_out = fft.irfft(fft_conv_out)\n",
    "\n",
    "# torch.allclose(signal[0, 0], conv_out[0, 0])"
   ]
  },
  {
   "cell_type": "code",
   "execution_count": null,
   "id": "bb27053a",
   "metadata": {},
   "outputs": [],
   "source": [
    "# fft_conv_out = fft_conv_out[:, :, ir.shape[-1] - 1:]\n",
    "fft_conv_out = fft_conv_out[..., :padded_signal.size(-1) - ir.size(-1) + 1]\n",
    "fft_conv_out.shape"
   ]
  },
  {
   "cell_type": "code",
   "execution_count": null,
   "id": "552cae42",
   "metadata": {},
   "outputs": [],
   "source": [
    "torch.allclose(fft_conv_out, conv_out)"
   ]
  },
  {
   "cell_type": "code",
   "execution_count": null,
   "id": "6e635255",
   "metadata": {},
   "outputs": [],
   "source": [
    "(fft_conv_out - conv_out).abs().max()"
   ]
  },
  {
   "cell_type": "code",
   "execution_count": null,
   "id": "9baccd07",
   "metadata": {},
   "outputs": [],
   "source": [
    "fft_conv_out.shape, conv_out.shape"
   ]
  },
  {
   "cell_type": "code",
   "execution_count": null,
   "id": "4ec0cd68",
   "metadata": {},
   "outputs": [],
   "source": [
    "plt.plot(fft_conv_out[0, 0])"
   ]
  },
  {
   "cell_type": "code",
   "execution_count": null,
   "id": "14b12933",
   "metadata": {},
   "outputs": [],
   "source": [
    "plt.plot(conv_out[0, 0])"
   ]
  },
  {
   "cell_type": "code",
   "execution_count": null,
   "id": "91c82e2a",
   "metadata": {},
   "outputs": [],
   "source": [
    "out, tail = fft_conv1d_new(signal, ir)"
   ]
  },
  {
   "cell_type": "code",
   "execution_count": null,
   "id": "c9426c98",
   "metadata": {},
   "outputs": [],
   "source": [
    "plt.plot(out[0, 0])"
   ]
  },
  {
   "cell_type": "code",
   "execution_count": null,
   "id": "1be0f9a0",
   "metadata": {},
   "outputs": [],
   "source": [
    "plt.plot(tail[0, 0])"
   ]
  },
  {
   "cell_type": "code",
   "execution_count": null,
   "id": "65822c84",
   "metadata": {},
   "outputs": [],
   "source": [
    "out.shape, tail.shape"
   ]
  },
  {
   "cell_type": "code",
   "execution_count": null,
   "id": "9c41e126",
   "metadata": {},
   "outputs": [],
   "source": []
  },
  {
   "cell_type": "code",
   "execution_count": null,
   "id": "4ff8bc8f",
   "metadata": {},
   "outputs": [],
   "source": [
    "out = fft_conv1d(signal, ir)\n",
    "out.shape"
   ]
  },
  {
   "cell_type": "code",
   "execution_count": null,
   "id": "2af05394",
   "metadata": {},
   "outputs": [],
   "source": [
    "padded = F.pad(signal, (ir.shape[-1] - 1, 0))\n",
    "\n",
    "batch, channels, length = padded.shape\n",
    "out_channels, _, kernel_size = ir.shape\n",
    "\n",
    "ir_ = pad_to(ir, length)\n",
    "ir_z = fft.rfft(ir_)\n",
    "\n",
    "frames_z = fft.rfft(padded).unsqueeze(2)\n",
    "print(frames_z.shape)\n",
    "print(ir_z.shape)\n",
    "out_z = frames_z * ir_z.conj()\n",
    "_out = fft.irfft(out_z)\n",
    "print(_out.shape)\n",
    "\n",
    "_out = _out[..., : -kernel_size + 1]\n",
    "_out = _out.reshape(batch, out_channels, -1)\n",
    "_out = _out[..., :]\n",
    "target_length = (length - kernel_size) + 1\n",
    "\n",
    "# TODO: this line throws away the tail. Will be necessary for real-time synth.\n",
    "_out = _out[..., :target_length]"
   ]
  },
  {
   "cell_type": "code",
   "execution_count": null,
   "id": "6d3b4ab3",
   "metadata": {},
   "outputs": [],
   "source": [
    "_out.shape"
   ]
  },
  {
   "cell_type": "code",
   "execution_count": null,
   "id": "1e2b80e5",
   "metadata": {},
   "outputs": [],
   "source": [
    "torch.allclose(out, _out)"
   ]
  },
  {
   "cell_type": "code",
   "execution_count": null,
   "id": "9a2c2e2b",
   "metadata": {},
   "outputs": [],
   "source": [
    "out.shape, _out.shape"
   ]
  },
  {
   "cell_type": "code",
   "execution_count": null,
   "id": "2b45ee4b",
   "metadata": {},
   "outputs": [],
   "source": []
  }
 ],
 "metadata": {
  "kernelspec": {
   "display_name": "Python 3 (ipykernel)",
   "language": "python",
   "name": "python3"
  },
  "language_info": {
   "codemirror_mode": {
    "name": "ipython",
    "version": 3
   },
   "file_extension": ".py",
   "mimetype": "text/x-python",
   "name": "python",
   "nbconvert_exporter": "python",
   "pygments_lexer": "ipython3",
   "version": "3.10.6"
  }
 },
 "nbformat": 4,
 "nbformat_minor": 5
}

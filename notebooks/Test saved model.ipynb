{
 "cells": [
  {
   "cell_type": "code",
   "execution_count": null,
   "id": "1d338308",
   "metadata": {},
   "outputs": [],
   "source": [
    "import torch\n",
    "import torch.nn as nn\n",
    "from performer.models.ddsp_module import DDSP\n",
    "from performer.datamodules.components.ddsp_dataset import DDSPDataset\n",
    "from performer.utils.features import Loudness, get_f0\n",
    "import numpy as np\n",
    "import torch.nn.functional as F\n",
    "import pytorch_lightning as pl\n",
    "\n",
    "import matplotlib.pyplot as plt\n",
    "from IPython.display import Audio\n",
    "\n",
    "import librosa\n",
    "import soundfile as sf"
   ]
  },
  {
   "cell_type": "code",
   "execution_count": null,
   "id": "847b9697",
   "metadata": {},
   "outputs": [],
   "source": [
    "vln_ckpt = '../checkpoints/violin_longrun.ckpt'\n",
    "vlc_ckpt = '../checkpoints/cello_longrun.ckpt'\n",
    "flt_ckpt = '../checkpoints/flute_longrun.ckpt'"
   ]
  },
  {
   "cell_type": "code",
   "execution_count": null,
   "id": "a8ad5013",
   "metadata": {},
   "outputs": [],
   "source": [
    "with torch.inference_mode():\n",
    "    model = DDSP.load_from_checkpoint(flt_ckpt, map_location='cuda')\n",
    "    model = model.to('cuda')\n",
    "    model.eval()\n",
    "    pass"
   ]
  },
  {
   "cell_type": "code",
   "execution_count": null,
   "id": "3d7e6101",
   "metadata": {},
   "outputs": [],
   "source": [
    "dataset = DDSPDataset(\"../data/flute_samples.pth\")"
   ]
  },
  {
   "cell_type": "code",
   "execution_count": null,
   "id": "8e82799b",
   "metadata": {},
   "outputs": [],
   "source": [
    "f0, amp, _ = dataset[10]\n",
    "f0, amp = f0.cuda(), amp.cuda()"
   ]
  },
  {
   "cell_type": "code",
   "execution_count": null,
   "id": "3dfb2ad1",
   "metadata": {},
   "outputs": [],
   "source": [
    "with torch.inference_mode():\n",
    "    y = model(f0[None, ...], amp[None, ...])"
   ]
  },
  {
   "cell_type": "code",
   "execution_count": null,
   "id": "242d4fb4",
   "metadata": {},
   "outputs": [],
   "source": [
    "Audio(y[0].cpu(), rate=48000)"
   ]
  },
  {
   "cell_type": "code",
   "execution_count": null,
   "id": "16273271",
   "metadata": {},
   "outputs": [],
   "source": [
    "with torch.inference_mode():\n",
    "    harmonic_controls, noise_controls = model.controller(f0[None, ...], amp[None, ...])\n",
    "    harmonics = model.harmonics(*harmonic_controls)\n",
    "    noise = model.noise(noise_controls)"
   ]
  },
  {
   "cell_type": "code",
   "execution_count": null,
   "id": "d8f47b3c",
   "metadata": {},
   "outputs": [],
   "source": [
    "Audio(harmonics[0].cpu(), rate=48000)"
   ]
  },
  {
   "cell_type": "code",
   "execution_count": null,
   "id": "19cd7cf8",
   "metadata": {},
   "outputs": [],
   "source": [
    "Audio(noise[0].cpu(), rate=48000)"
   ]
  },
  {
   "cell_type": "code",
   "execution_count": null,
   "id": "ddfd0209",
   "metadata": {},
   "outputs": [],
   "source": [
    "Audio(harmonics[0].cpu() + noise[0].cpu(), rate=48000)"
   ]
  },
  {
   "cell_type": "code",
   "execution_count": null,
   "id": "6fd2525e",
   "metadata": {},
   "outputs": [],
   "source": [
    "Audio(model.reverb.ir.detach().squeeze().cpu()[1:], rate=48000)"
   ]
  },
  {
   "cell_type": "code",
   "execution_count": null,
   "id": "5916e16f",
   "metadata": {},
   "outputs": [],
   "source": [
    "model.reverb.ir.detach().squeeze().cpu()[1:].shape"
   ]
  },
  {
   "cell_type": "code",
   "execution_count": null,
   "id": "299d9e2a",
   "metadata": {},
   "outputs": [],
   "source": [
    "plt.plot(model.reverb.ir.detach().squeeze().cpu()[1:][0])"
   ]
  },
  {
   "cell_type": "code",
   "execution_count": null,
   "id": "4fb4e7c4",
   "metadata": {},
   "outputs": [],
   "source": [
    "def adsr(ts: float, a: float, d: float, s: float, r:float):\n",
    "    attack = torch.linspace(0., 1., int(a * 250))\n",
    "    decay = torch.linspace(0., 1., int(d * 250))\n",
    "    sustain = torch.ones(int(ts * 250)) * s\n",
    "    release = torch.linspace(s, 0., int(r * 250))\n",
    "\n",
    "    env = torch.cat([attack, decay, sustain, release])[None, None, :].cuda()\n",
    "    \n",
    "    return env"
   ]
  },
  {
   "cell_type": "code",
   "execution_count": null,
   "id": "d949286f",
   "metadata": {},
   "outputs": [],
   "source": [
    "def sin(ts: float, f: float):\n",
    "    t = torch.arange(int(ts * 250), dtype=torch.float32, device='cuda') / 250\n",
    "    result = torch.sin(2 * np.pi * f * t)\n",
    "    \n",
    "    return result"
   ]
  },
  {
   "cell_type": "code",
   "execution_count": null,
   "id": "211e25d4",
   "metadata": {},
   "outputs": [],
   "source": [
    "# amp = 60 * adsr(2, 0.01, 0.02, 0.5, 1) - 80 + 2 * sin(3.03, 4)\n",
    "# amp += torch.randn_like(amp) * 0.1\n",
    "f0 = torch.ones_like(amp, device='cuda') * 880*2"
   ]
  },
  {
   "cell_type": "code",
   "execution_count": null,
   "id": "ef0d84b2",
   "metadata": {},
   "outputs": [],
   "source": [
    "with torch.inference_mode():\n",
    "    y = model(f0, amp)\n",
    "\n",
    "_y = y.cpu().numpy().squeeze()\n",
    "\n",
    "Audio(data=_y, rate=48000)"
   ]
  },
  {
   "cell_type": "code",
   "execution_count": null,
   "id": "76c78fe5",
   "metadata": {},
   "outputs": [],
   "source": [
    "def export_controller_jit(ckpt, name, map_location='cuda'):\n",
    "    with torch.inference_mode():\n",
    "        model = DDSP.load_from_checkpoint(ckpt, map_location=map_location)\n",
    "        model = model.to(map_location)\n",
    "        model.eval()\n",
    "\n",
    "        ctrl = model.controller\n",
    "        ctrl_jit = torch.jit.script(ctrl)\n",
    "        ctrl_jit.save(f'../out/{name}-{map_location}-controller.pt')\n",
    "\n",
    "        harmonics = model.harmonics\n",
    "        harmonics_jit = torch.jit.script(harmonics)\n",
    "        harmonics_jit.save(f'../out/{name}-{map_location}-harmonics.pt')\n",
    "\n",
    "        noise = model.noise\n",
    "        noise_jit = torch.jit.script(noise)\n",
    "        noise_jit.save(f'../out/{name}-{map_location}-noise.pt')\n",
    "\n",
    "        ir = model.reverb.ir.cpu().numpy()[:, 0, :]\n",
    "        ir = np.concatenate([np.ones((2, 1), dtype='float32'), ir], axis=1)\n",
    "\n",
    "        sf.write(f'../out/{name}-ir.wav', ir.T, 48000, subtype='PCM_24')"
   ]
  },
  {
   "cell_type": "code",
   "execution_count": null,
   "id": "36bc64da",
   "metadata": {},
   "outputs": [],
   "source": [
    "export_controller_jit(vln_ckpt, 'violin', 'cuda')"
   ]
  },
  {
   "cell_type": "code",
   "execution_count": null,
   "id": "e459edfc",
   "metadata": {},
   "outputs": [],
   "source": [
    "model.reverb.ir.shape"
   ]
  },
  {
   "cell_type": "code",
   "execution_count": null,
   "id": "838faa70",
   "metadata": {},
   "outputs": [],
   "source": [
    "Audio(data=model.reverb.ir[:, 0, :], rate=48000)"
   ]
  },
  {
   "cell_type": "code",
   "execution_count": null,
   "id": "3b0299a4",
   "metadata": {},
   "outputs": [],
   "source": [
    "dur = 2\n",
    "overtones = 1 / torch.arange(1, 181)\n",
    "overtones = overtones[None, None, :, None]\n",
    "overtones = overtones.repeat(1, 1, 1, dur)\n",
    "amp = torch.ones(1, 1, dur) * -40.0\n",
    "f0 = torch.ones(1, 1, dur) * 110.0\n",
    "\n",
    "y = model.harmonics.forward(f0, amp, overtones)\n",
    "Audio(data=y[0], rate=48000)"
   ]
  },
  {
   "cell_type": "code",
   "execution_count": null,
   "id": "a2386277",
   "metadata": {},
   "outputs": [],
   "source": [
    "y = model.harmonics.forward_live(f0, amp, overtones)\n",
    "w = model.harmonics.forward_live(f0, amp, overtones)\n",
    "Audio(data=torch.cat((y, w), dim=-1)[0], rate=48000)"
   ]
  },
  {
   "cell_type": "code",
   "execution_count": null,
   "id": "368fc63b",
   "metadata": {},
   "outputs": [],
   "source": [
    "ctrl = torch.jit.load('cello_controller.pt')"
   ]
  },
  {
   "cell_type": "code",
   "execution_count": null,
   "id": "26cb2cba",
   "metadata": {},
   "outputs": [],
   "source": [
    "f0 = torch.ones(1, 1, 1, device='cpu') * 440.\n",
    "amp = torch.ones(1, 1, 1, device='cpu') * -32.\n",
    "hidden = torch.ones(3, 1, 1, device='cpu')"
   ]
  },
  {
   "cell_type": "code",
   "execution_count": null,
   "id": "62d5d84a",
   "metadata": {},
   "outputs": [],
   "source": [
    "p, n, h, = ctrl.forward_live(f0, amp, hidden)\n"
   ]
  },
  {
   "cell_type": "code",
   "execution_count": null,
   "id": "1dc489eb",
   "metadata": {},
   "outputs": [],
   "source": [
    "vln = DDSP().load_from_checkpoint(vln_ckpt, map_location='cuda').cuda()\n",
    "vln.eval()\n",
    "pass"
   ]
  },
  {
   "cell_type": "code",
   "execution_count": null,
   "id": "c3b64e28",
   "metadata": {},
   "outputs": [],
   "source": [
    "ctrl = vln.controller"
   ]
  },
  {
   "cell_type": "code",
   "execution_count": null,
   "id": "3012a18e",
   "metadata": {},
   "outputs": [],
   "source": [
    "x = torch.ones(1, 8, 1024, device='cuda')\n",
    "with torch.inference_mode():\n",
    "    y, h = ctrl.gru(x)\n",
    "\n",
    "print(h.shape)"
   ]
  },
  {
   "cell_type": "code",
   "execution_count": null,
   "id": "b10c6ded",
   "metadata": {},
   "outputs": [],
   "source": [
    "f0 = torch.ones(1, 1, 128, device='cuda') * 440.\n",
    "amp = torch.ones(1, 1, 128, device='cuda') * -32.\n",
    "hidden = torch.ones(3, 1, 512, device='cuda')\n",
    "\n",
    "with torch.inference_mode():\n",
    "    h_ctrl, n_ctrl, hidden = ctrl.forward_live(f0, amp, hidden)\n",
    "\n",
    "for param in h_ctrl:\n",
    "    print(param.shape)\n",
    "print(n_ctrl.shape)\n",
    "print(hidden.shape)"
   ]
  },
  {
   "cell_type": "code",
   "execution_count": null,
   "id": "31af838f",
   "metadata": {},
   "outputs": [],
   "source": [
    "shits = torch.jit.script(ctrl)"
   ]
  },
  {
   "cell_type": "code",
   "execution_count": null,
   "id": "8d092b1c",
   "metadata": {},
   "outputs": [],
   "source": [
    "with torch.inference_mode():\n",
    "        h_ctrl, n_ctrl, hidden = shits.forward_live(f0, amp, hidden)"
   ]
  },
  {
   "cell_type": "code",
   "execution_count": null,
   "id": "9183ac7e",
   "metadata": {},
   "outputs": [],
   "source": [
    "shits.save('violin_controller.pt')"
   ]
  },
  {
   "cell_type": "code",
   "execution_count": null,
   "id": "b3e099e6",
   "metadata": {},
   "outputs": [],
   "source": [
    "bokumsel = torch.jit.load('violin_controller.pt')"
   ]
  },
  {
   "cell_type": "code",
   "execution_count": null,
   "id": "66df4001",
   "metadata": {},
   "outputs": [],
   "source": [
    "with torch.inference_mode():\n",
    "        h_ctrl, n_ctrl, hidden = bokumsel.forward_live(f0, amp, hidden)"
   ]
  },
  {
   "cell_type": "code",
   "execution_count": null,
   "id": "45631125",
   "metadata": {},
   "outputs": [],
   "source": [
    "dataset = DDSPDataset(\"../data/violin_samples.pth\")"
   ]
  },
  {
   "cell_type": "code",
   "execution_count": null,
   "id": "06d7a6a4",
   "metadata": {},
   "outputs": [],
   "source": [
    "f0_, amp_, audio_ = dataset[0]"
   ]
  },
  {
   "cell_type": "code",
   "execution_count": null,
   "id": "1157fb02",
   "metadata": {},
   "outputs": [],
   "source": [
    "amp_.shape"
   ]
  },
  {
   "cell_type": "code",
   "execution_count": null,
   "id": "2e7d5cac",
   "metadata": {},
   "outputs": [],
   "source": [
    "plt.plot(amp_[0].cpu().numpy())\n",
    "plt.plot(amp[0, 0].cpu().numpy())\n",
    "plt.show()"
   ]
  },
  {
   "cell_type": "code",
   "execution_count": null,
   "id": "b179dca6",
   "metadata": {},
   "outputs": [],
   "source": [
    "vlc = DDSP().load_from_checkpoint(vlc_ckpt, map_location='cuda').cuda()\n",
    "vlc.eval()\n",
    "pass"
   ]
  },
  {
   "cell_type": "code",
   "execution_count": null,
   "id": "797645d3",
   "metadata": {},
   "outputs": [],
   "source": [
    "def sec_to_ctrl(sec: int):\n",
    "    return int(48000 * sec / 192 + 1)\n",
    "\n",
    "def midi_to_freq(m):\n",
    "    return 440. * 2 ** ((m - 69) / 12)"
   ]
  },
  {
   "cell_type": "code",
   "execution_count": null,
   "id": "cc204c1c",
   "metadata": {},
   "outputs": [],
   "source": [
    "sec = 2\n",
    "ctrl = sec_to_ctrl(sec)\n",
    "f0s = []\n",
    "amps = [torch.exp(-5. * torch.linspace(-sec/2., sec/2, ctrl) ** 2)[None, None, :] * 70. - 80.] * 8\n",
    "for pitch in [36, 38, 40, 41, 43, 45, 47, 48]:\n",
    "    f = torch.ones(1, 1, ctrl) * midi_to_freq(pitch + 36)\n",
    "    f += torch.sin(torch.linspace(0., sec, ctrl) * 2 * 3.14159265 * 4) * (midi_to_freq(pitch+0.25) - midi_to_freq(pitch))\n",
    "    f0s.append(f)\n",
    "\n",
    "silence = torch.linspace(amps[-1][0, 0, -1], -80., sec_to_ctrl(3))[None, None, :]\n",
    "f_silence = torch.ones(1, 1, sec_to_ctrl(3)) * f0s[-1][0, 0, -1]\n",
    "f0 = torch.cat(f0s + [f_silence], dim=-1).cuda()\n",
    "amp = (torch.cat(amps + [silence], dim=-1) - 40.).cuda()"
   ]
  },
  {
   "cell_type": "code",
   "execution_count": null,
   "id": "8aa7e10f",
   "metadata": {},
   "outputs": [],
   "source": [
    "amp.shape"
   ]
  },
  {
   "cell_type": "code",
   "execution_count": null,
   "id": "b297c872",
   "metadata": {},
   "outputs": [],
   "source": [
    "plt.plot(amp.cpu().numpy()[0][0])"
   ]
  },
  {
   "cell_type": "code",
   "execution_count": null,
   "id": "31b4d49c",
   "metadata": {},
   "outputs": [],
   "source": [
    "with torch.no_grad():\n",
    "    y = vln(f0, amp)\n",
    "\n",
    "Audio(data=y[0].cpu().numpy(), rate=48000)"
   ]
  },
  {
   "cell_type": "code",
   "execution_count": null,
   "id": "7d64ea4d",
   "metadata": {},
   "outputs": [],
   "source": [
    "SAMPLE_RATE = 48000\n",
    "CREPE_SAMPLE_RATE = 16000\n",
    "SR_RATIO = SAMPLE_RATE // CREPE_SAMPLE_RATE\n",
    "CREPE_N_FFT = 1024\n",
    "N_FFT = 1024 * SR_RATIO\n",
    "\n",
    "# TODO: FRAME_RATE should be adjustable but valid values depend on audio example duration\n",
    "FRAME_RATE = 250\n",
    "HOP_LENGTH = SAMPLE_RATE // FRAME_RATE\n",
    "CREPE_HOP_LENGTH = HOP_LENGTH // SR_RATIO"
   ]
  },
  {
   "cell_type": "code",
   "execution_count": null,
   "id": "2357fd34",
   "metadata": {},
   "outputs": [],
   "source": [
    "class Preprocess:\n",
    "    def __init__(self, device):\n",
    "        self.ld = Loudness().to(device)\n",
    "    \n",
    "    def do(self, y):\n",
    "        if (diff := len(y) % HOP_LENGTH) != 0:\n",
    "            F.pad(y, (0, HOP_LENGTH - diff))\n",
    "        \n",
    "        audio = F.pad(y[None, None, :], (N_FFT // 2, N_FFT // 2))\n",
    "        loudness = self.ld.get_amp(audio)\n",
    "        f0 = get_f0(audio)\n",
    "        \n",
    "        return f0, loudness"
   ]
  },
  {
   "cell_type": "code",
   "execution_count": null,
   "id": "d082a08a",
   "metadata": {},
   "outputs": [],
   "source": [
    "preprocessor = Preprocess('cuda')"
   ]
  },
  {
   "cell_type": "code",
   "execution_count": null,
   "id": "5171e3b6",
   "metadata": {},
   "outputs": [],
   "source": [
    "y, _ = librosa.load('/home/kureta/Music/Flute Samples/01. Air.wav', sr=48000, duration=10)"
   ]
  },
  {
   "cell_type": "code",
   "execution_count": null,
   "id": "2fca5bd1",
   "metadata": {},
   "outputs": [],
   "source": [
    "y = torch.from_numpy(y).cuda()"
   ]
  },
  {
   "cell_type": "code",
   "execution_count": null,
   "id": "a410c6b6",
   "metadata": {},
   "outputs": [],
   "source": [
    "f0, amp = preprocessor.do(y)"
   ]
  },
  {
   "cell_type": "code",
   "execution_count": null,
   "id": "ac6abcdf",
   "metadata": {},
   "outputs": [],
   "source": [
    "plt.plot(amp.squeeze().cpu())"
   ]
  },
  {
   "cell_type": "code",
   "execution_count": null,
   "id": "316e7e4d",
   "metadata": {},
   "outputs": [],
   "source": [
    "with torch.no_grad():\n",
    "    y = vln(f0, amp)\n",
    "\n",
    "Audio(data=y[0].cpu(), rate=48000)"
   ]
  },
  {
   "cell_type": "code",
   "execution_count": null,
   "id": "a560fa1f",
   "metadata": {},
   "outputs": [],
   "source": [
    "with torch.no_grad():\n",
    "    y = vlc_alt(f0, amp)\n",
    "\n",
    "Audio(data=y[0].cpu(), rate=48000)"
   ]
  },
  {
   "cell_type": "code",
   "execution_count": null,
   "id": "3970cd22",
   "metadata": {},
   "outputs": [],
   "source": [
    "with torch.no_grad():\n",
    "    y = vln(f0 * 2.0, amp)\n",
    "\n",
    "Audio(data=y[0].cpu(), rate=48000)"
   ]
  },
  {
   "cell_type": "code",
   "execution_count": null,
   "id": "558c50af",
   "metadata": {},
   "outputs": [],
   "source": [
    "from src.utils.multiscale_stft_loss import multiscale_stft, distance"
   ]
  },
  {
   "cell_type": "code",
   "execution_count": null,
   "id": "a0277e5d",
   "metadata": {},
   "outputs": [],
   "source": [
    "y, _ = librosa.load('/home/kureta/Music/Cello Samples/SchummTrau-00003-.wav', sr=48000, mono=False)\n",
    "y = torch.from_numpy(y)[None, ...]"
   ]
  },
  {
   "cell_type": "code",
   "execution_count": null,
   "id": "3da39c6c",
   "metadata": {},
   "outputs": [],
   "source": [
    "distance(y, y)"
   ]
  },
  {
   "cell_type": "code",
   "execution_count": null,
   "id": "5a649e04",
   "metadata": {},
   "outputs": [],
   "source": [
    "ss = multiscale_stft(y, [4096, 2048, 1024, 512, 256, 128], 0.75)"
   ]
  },
  {
   "cell_type": "code",
   "execution_count": null,
   "id": "bae272ac",
   "metadata": {},
   "outputs": [],
   "source": [
    "ss[0].shape"
   ]
  },
  {
   "cell_type": "code",
   "execution_count": null,
   "id": "0fe66c48",
   "metadata": {},
   "outputs": [],
   "source": [
    "plt.matshow(ss[-4][0])"
   ]
  },
  {
   "cell_type": "code",
   "execution_count": null,
   "id": "e15d87c1",
   "metadata": {},
   "outputs": [],
   "source": [
    "ss[-4].shape"
   ]
  },
  {
   "cell_type": "code",
   "execution_count": null,
   "id": "13d04989",
   "metadata": {},
   "outputs": [],
   "source": []
  }
 ],
 "metadata": {
  "kernelspec": {
   "display_name": "Python 3 (ipykernel)",
   "language": "python",
   "name": "python3"
  },
  "language_info": {
   "codemirror_mode": {
    "name": "ipython",
    "version": 3
   },
   "file_extension": ".py",
   "mimetype": "text/x-python",
   "name": "python",
   "nbconvert_exporter": "python",
   "pygments_lexer": "ipython3",
   "version": "3.10.8"
  },
  "vscode": {
   "interpreter": {
    "hash": "f9c023520f5e5e3f37c6e9402402493f33664b45b16ac2193ce71ff9f88d42ba"
   }
  }
 },
 "nbformat": 4,
 "nbformat_minor": 5
}

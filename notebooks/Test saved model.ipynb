{
 "cells": [
  {
   "cell_type": "code",
   "execution_count": null,
   "id": "1d338308",
   "metadata": {},
   "outputs": [],
   "source": [
    "import torch\n",
    "import torch.nn as nn\n",
    "from src.models.ddsp_module import DDSP\n",
    "from src.datamodules.components.ddsp_dataset import DDSPDataset\n",
    "from src.utils.features import Loudness, get_f0\n",
    "import numpy as np\n",
    "import torch.nn.functional as F\n",
    "import pytorch_lightning as pl\n",
    "\n",
    "import matplotlib.pyplot as plt\n",
    "from IPython.display import Audio\n",
    "\n",
    "import librosa"
   ]
  },
  {
   "cell_type": "code",
   "execution_count": null,
   "id": "847b9697",
   "metadata": {},
   "outputs": [],
   "source": [
    "vln_ckpt = '../checkpoints/violin_baseline.ckpt'"
   ]
  },
  {
   "cell_type": "code",
   "execution_count": null,
   "id": "d1b80a14",
   "metadata": {},
   "outputs": [],
   "source": [
    "vlc_ckpt = '../checkpoints/cello_baseline.ckpt'"
   ]
  },
  {
   "cell_type": "code",
   "execution_count": null,
   "id": "1dc489eb",
   "metadata": {},
   "outputs": [],
   "source": [
    "vln = DDSP().load_from_checkpoint(vln_ckpt, map_location='cuda').cuda()\n",
    "vln.eval()\n",
    "pass"
   ]
  },
  {
   "cell_type": "code",
   "execution_count": null,
   "id": "45631125",
   "metadata": {},
   "outputs": [],
   "source": [
    "dataset = DDSPDataset(\"../data/violin_samples.pth\")"
   ]
  },
  {
   "cell_type": "code",
   "execution_count": null,
   "id": "06d7a6a4",
   "metadata": {},
   "outputs": [],
   "source": [
    "f0_, amp_, audio_ = dataset[0]"
   ]
  },
  {
   "cell_type": "code",
   "execution_count": null,
   "id": "1157fb02",
   "metadata": {},
   "outputs": [],
   "source": [
    "amp_.shape"
   ]
  },
  {
   "cell_type": "code",
   "execution_count": null,
   "id": "2e7d5cac",
   "metadata": {},
   "outputs": [],
   "source": [
    "plt.plot(amp_[0].cpu().numpy())\n",
    "plt.plot(amp[0, 0].cpu().numpy())\n",
    "plt.show()"
   ]
  },
  {
   "cell_type": "code",
   "execution_count": null,
   "id": "b179dca6",
   "metadata": {},
   "outputs": [],
   "source": [
    "vlc = DDSP().load_from_checkpoint(vlc_ckpt, map_location='cuda').cuda()\n",
    "vlc.eval()\n",
    "pass"
   ]
  },
  {
   "cell_type": "code",
   "execution_count": null,
   "id": "797645d3",
   "metadata": {},
   "outputs": [],
   "source": [
    "def sec_to_ctrl(sec: int):\n",
    "    return int(48000 * sec / 192 + 1)\n",
    "\n",
    "def midi_to_freq(m):\n",
    "    return 440. * 2 ** ((m - 69) / 12)"
   ]
  },
  {
   "cell_type": "code",
   "execution_count": null,
   "id": "cc204c1c",
   "metadata": {},
   "outputs": [],
   "source": [
    "sec = 2\n",
    "ctrl = sec_to_ctrl(sec)\n",
    "f0s = []\n",
    "amps = [torch.exp(-5. * torch.linspace(-sec/2., sec/2, ctrl) ** 2)[None, None, :] * 70. - 80.] * 8\n",
    "for pitch in [36, 38, 40, 41, 43, 45, 47, 48]:\n",
    "    f = torch.ones(1, 1, ctrl) * midi_to_freq(pitch + 36)\n",
    "    f += torch.sin(torch.linspace(0., sec, ctrl) * 2 * 3.14159265 * 4) * (midi_to_freq(pitch+0.25) - midi_to_freq(pitch))\n",
    "    f0s.append(f)\n",
    "\n",
    "silence = torch.linspace(amps[-1][0, 0, -1], -80., sec_to_ctrl(3))[None, None, :]\n",
    "f_silence = torch.ones(1, 1, sec_to_ctrl(3)) * f0s[-1][0, 0, -1]\n",
    "f0 = torch.cat(f0s + [f_silence], dim=-1).cuda()\n",
    "amp = (torch.cat(amps + [silence], dim=-1) - 40.).cuda()"
   ]
  },
  {
   "cell_type": "code",
   "execution_count": null,
   "id": "8aa7e10f",
   "metadata": {},
   "outputs": [],
   "source": [
    "amp.shape"
   ]
  },
  {
   "cell_type": "code",
   "execution_count": null,
   "id": "b297c872",
   "metadata": {},
   "outputs": [],
   "source": [
    "plt.plot(amp.cpu().numpy()[0][0])"
   ]
  },
  {
   "cell_type": "code",
   "execution_count": null,
   "id": "31b4d49c",
   "metadata": {},
   "outputs": [],
   "source": [
    "with torch.no_grad():\n",
    "    y = vln(f0, amp)\n",
    "\n",
    "Audio(data=y[0].cpu().numpy(), rate=48000)"
   ]
  },
  {
   "cell_type": "code",
   "execution_count": null,
   "id": "7d64ea4d",
   "metadata": {},
   "outputs": [],
   "source": [
    "SAMPLE_RATE = 48000\n",
    "CREPE_SAMPLE_RATE = 16000\n",
    "SR_RATIO = SAMPLE_RATE // CREPE_SAMPLE_RATE\n",
    "CREPE_N_FFT = 1024\n",
    "N_FFT = 1024 * SR_RATIO\n",
    "\n",
    "# TODO: FRAME_RATE should be adjustable but valid values depend on audio example duration\n",
    "FRAME_RATE = 250\n",
    "HOP_LENGTH = SAMPLE_RATE // FRAME_RATE\n",
    "CREPE_HOP_LENGTH = HOP_LENGTH // SR_RATIO"
   ]
  },
  {
   "cell_type": "code",
   "execution_count": null,
   "id": "2357fd34",
   "metadata": {},
   "outputs": [],
   "source": [
    "class Preprocess:\n",
    "    def __init__(self, device):\n",
    "        self.ld = Loudness().to(device)\n",
    "    \n",
    "    def do(self, y):\n",
    "        if (diff := len(y) % HOP_LENGTH) != 0:\n",
    "            F.pad(y, (0, HOP_LENGTH - diff))\n",
    "        \n",
    "        audio = F.pad(y[None, None, :], (N_FFT // 2, N_FFT // 2))\n",
    "        loudness = self.ld.get_amp(audio)\n",
    "        f0 = get_f0(audio)\n",
    "        \n",
    "        return f0, loudness"
   ]
  },
  {
   "cell_type": "code",
   "execution_count": null,
   "id": "d082a08a",
   "metadata": {},
   "outputs": [],
   "source": [
    "preprocessor = Preprocess('cuda')"
   ]
  },
  {
   "cell_type": "code",
   "execution_count": null,
   "id": "5171e3b6",
   "metadata": {},
   "outputs": [],
   "source": [
    "y, _ = librosa.load('/home/kureta/Music/Violin Samples/yee_bach_theme#33.wav', sr=48000)"
   ]
  },
  {
   "cell_type": "code",
   "execution_count": null,
   "id": "2fca5bd1",
   "metadata": {},
   "outputs": [],
   "source": [
    "y = torch.from_numpy(y).cuda()"
   ]
  },
  {
   "cell_type": "code",
   "execution_count": null,
   "id": "a410c6b6",
   "metadata": {},
   "outputs": [],
   "source": [
    "f0, amp = preprocessor.do(y)"
   ]
  },
  {
   "cell_type": "code",
   "execution_count": null,
   "id": "316e7e4d",
   "metadata": {},
   "outputs": [],
   "source": [
    "with torch.no_grad():\n",
    "    y = vln(f0, amp)\n",
    "\n",
    "Audio(data=y[0].cpu(), rate=48000)"
   ]
  },
  {
   "cell_type": "code",
   "execution_count": null,
   "id": "a560fa1f",
   "metadata": {},
   "outputs": [],
   "source": [
    "with torch.no_grad():\n",
    "    y = vlc_alt(f0, amp)\n",
    "\n",
    "Audio(data=y[0].cpu(), rate=48000)"
   ]
  },
  {
   "cell_type": "code",
   "execution_count": null,
   "id": "3970cd22",
   "metadata": {},
   "outputs": [],
   "source": [
    "with torch.no_grad():\n",
    "    y = vln(f0 * 2.0, amp)\n",
    "\n",
    "Audio(data=y[0].cpu(), rate=48000)"
   ]
  },
  {
   "cell_type": "code",
   "execution_count": null,
   "id": "558c50af",
   "metadata": {},
   "outputs": [],
   "source": [
    "from src.utils.multiscale_stft_loss import multiscale_stft, distance"
   ]
  },
  {
   "cell_type": "code",
   "execution_count": null,
   "id": "a0277e5d",
   "metadata": {},
   "outputs": [],
   "source": [
    "y, _ = librosa.load('/home/kureta/Music/Cello Samples/SchummTrau-00003-.wav', sr=48000, mono=False)\n",
    "y = torch.from_numpy(y)[None, ...]"
   ]
  },
  {
   "cell_type": "code",
   "execution_count": null,
   "id": "3da39c6c",
   "metadata": {},
   "outputs": [],
   "source": [
    "distance(y, y)"
   ]
  },
  {
   "cell_type": "code",
   "execution_count": null,
   "id": "5a649e04",
   "metadata": {},
   "outputs": [],
   "source": [
    "ss = multiscale_stft(y, [4096, 2048, 1024, 512, 256, 128], 0.75)"
   ]
  },
  {
   "cell_type": "code",
   "execution_count": null,
   "id": "bae272ac",
   "metadata": {},
   "outputs": [],
   "source": [
    "ss[0].shape"
   ]
  },
  {
   "cell_type": "code",
   "execution_count": null,
   "id": "0fe66c48",
   "metadata": {},
   "outputs": [],
   "source": [
    "plt.matshow(ss[-4][0])"
   ]
  },
  {
   "cell_type": "code",
   "execution_count": null,
   "id": "e15d87c1",
   "metadata": {},
   "outputs": [],
   "source": [
    "ss[-4].shape"
   ]
  },
  {
   "cell_type": "code",
   "execution_count": null,
   "id": "13d04989",
   "metadata": {},
   "outputs": [],
   "source": []
  }
 ],
 "metadata": {
  "kernelspec": {
   "display_name": "Python 3 (ipykernel)",
   "language": "python",
   "name": "python3"
  },
  "language_info": {
   "codemirror_mode": {
    "name": "ipython",
    "version": 3
   },
   "file_extension": ".py",
   "mimetype": "text/x-python",
   "name": "python",
   "nbconvert_exporter": "python",
   "pygments_lexer": "ipython3",
   "version": "3.10.6"
  }
 },
 "nbformat": 4,
 "nbformat_minor": 5
}

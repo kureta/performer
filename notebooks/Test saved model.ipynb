{
 "cells": [
  {
   "cell_type": "code",
   "execution_count": null,
   "id": "1d338308",
   "metadata": {},
   "outputs": [],
   "source": [
    "import torch\n",
    "import torch.nn as nn\n",
    "from src.models.ddsp_module import DDSP\n",
    "from src.datamodules.components.ddsp_dataset import DDSPDataset\n",
    "from src.utils.features import Loudness, get_f0\n",
    "import numpy as np\n",
    "import torch.nn.functional as F\n",
    "import pytorch_lightning as pl\n",
    "\n",
    "import matplotlib.pyplot as plt\n",
    "from IPython.display import Audio\n",
    "\n",
    "import librosa"
   ]
  },
  {
   "cell_type": "code",
   "execution_count": null,
   "id": "9b43388c",
   "metadata": {},
   "outputs": [],
   "source": [
    "model = DDSP().load_from_checkpoint('../logs/train/runs/2022-08-18_19-12-22/checkpoints/epoch_007.ckpt', map_location='cpu')\n",
    "model.eval()\n",
    "pass"
   ]
  },
  {
   "cell_type": "code",
   "execution_count": null,
   "id": "797645d3",
   "metadata": {},
   "outputs": [],
   "source": [
    "def sec_to_ctrl(sec: int):\n",
    "    return int(48000 * sec / 192 + 1)\n",
    "\n",
    "def midi_to_freq(m):\n",
    "    return 440. * 2 ** ((m - 69) / 12)"
   ]
  },
  {
   "cell_type": "code",
   "execution_count": null,
   "id": "cc204c1c",
   "metadata": {},
   "outputs": [],
   "source": [
    "sec = 2\n",
    "ctrl = sec_to_ctrl(sec)\n",
    "f0s = []\n",
    "amps = [torch.exp(-5. * torch.linspace(-sec/2., sec/2, ctrl) ** 2)[None, None, :] * 70. - 80.] * 8\n",
    "for pitch in [36, 38, 40, 41, 43, 45, 47, 48]:\n",
    "    f = torch.ones(1, 1, ctrl) * midi_to_freq(pitch + 12)\n",
    "    f += torch.sin(torch.linspace(0., sec, ctrl) * 2 * 3.14159265 * 4) * (midi_to_freq(pitch+0.25) - midi_to_freq(pitch))\n",
    "    f0s.append(f)\n",
    "\n",
    "silence = torch.linspace(amps[-1][0, 0, -1], -80., sec_to_ctrl(3))[None, None, :]\n",
    "f_silence = torch.ones(1, 1, sec_to_ctrl(3)) * f0s[-1][0, 0, -1]\n",
    "f0 = torch.cat(f0s + [f_silence], dim=-1)\n",
    "amp = torch.cat(amps + [silence], dim=-1)"
   ]
  },
  {
   "cell_type": "code",
   "execution_count": null,
   "id": "31b4d49c",
   "metadata": {},
   "outputs": [],
   "source": [
    "with torch.no_grad():\n",
    "    y = model(f0, amp)\n",
    "\n",
    "Audio(data=y[0], rate=48000)"
   ]
  },
  {
   "cell_type": "code",
   "execution_count": null,
   "id": "7d64ea4d",
   "metadata": {},
   "outputs": [],
   "source": [
    "SAMPLE_RATE = 48000\n",
    "CREPE_SAMPLE_RATE = 16000\n",
    "SR_RATIO = SAMPLE_RATE // CREPE_SAMPLE_RATE\n",
    "CREPE_N_FFT = 1024\n",
    "N_FFT = 1024 * SR_RATIO\n",
    "\n",
    "# TODO: FRAME_RATE should be adjustable but valid values depend on audio example duration\n",
    "FRAME_RATE = 250\n",
    "HOP_LENGTH = SAMPLE_RATE // FRAME_RATE\n",
    "CREPE_HOP_LENGTH = HOP_LENGTH // SR_RATIO"
   ]
  },
  {
   "cell_type": "code",
   "execution_count": null,
   "id": "2357fd34",
   "metadata": {},
   "outputs": [],
   "source": [
    "class Preprocess:\n",
    "    def __init__(self):\n",
    "        self.ld = Loudness()\n",
    "    \n",
    "    def do(self, y):\n",
    "        if (diff := len(y) % HOP_LENGTH) != 0:\n",
    "            np.pad(y, (0, HOP_LENGTH - diff))\n",
    "        \n",
    "        audio = F.pad(torch.from_numpy(y)[None, None, :], (N_FFT // 2, N_FFT // 2))\n",
    "        loudness = self.ld.get_amp(audio)\n",
    "        f0 = get_f0(audio)\n",
    "        \n",
    "        return f0, loudness"
   ]
  },
  {
   "cell_type": "code",
   "execution_count": null,
   "id": "5171e3b6",
   "metadata": {},
   "outputs": [],
   "source": [
    "y, _ = librosa.load('/home/kureta/Music/Cello Samples/SchummTrau-00003-.wav', sr=48000)"
   ]
  },
  {
   "cell_type": "code",
   "execution_count": null,
   "id": "d082a08a",
   "metadata": {},
   "outputs": [],
   "source": [
    "preprocessor = Preprocess()"
   ]
  },
  {
   "cell_type": "code",
   "execution_count": null,
   "id": "a410c6b6",
   "metadata": {},
   "outputs": [],
   "source": [
    "f0, amp = preprocessor.do(y)"
   ]
  },
  {
   "cell_type": "code",
   "execution_count": null,
   "id": "316e7e4d",
   "metadata": {},
   "outputs": [],
   "source": [
    "with torch.no_grad():\n",
    "    y = model(f0, amp)\n",
    "\n",
    "Audio(data=y[0], rate=48000)"
   ]
  },
  {
   "cell_type": "code",
   "execution_count": null,
   "id": "a560fa1f",
   "metadata": {},
   "outputs": [],
   "source": []
  }
 ],
 "metadata": {
  "kernelspec": {
   "display_name": "Python 3 (ipykernel)",
   "language": "python",
   "name": "python3"
  },
  "language_info": {
   "codemirror_mode": {
    "name": "ipython",
    "version": 3
   },
   "file_extension": ".py",
   "mimetype": "text/x-python",
   "name": "python",
   "nbconvert_exporter": "python",
   "pygments_lexer": "ipython3",
   "version": "3.10.6"
  }
 },
 "nbformat": 4,
 "nbformat_minor": 5
}

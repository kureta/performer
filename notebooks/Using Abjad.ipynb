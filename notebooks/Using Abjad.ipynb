{
 "cells": [
  {
   "cell_type": "code",
   "execution_count": null,
   "id": "5ffd8e73",
   "metadata": {},
   "outputs": [],
   "source": [
    "%load_ext abjad_notebook\n",
    "import abjad"
   ]
  },
  {
   "cell_type": "markdown",
   "id": "08fb3260",
   "metadata": {},
   "source": [
    "# Learning Abjad"
   ]
  },
  {
   "cell_type": "markdown",
   "id": "e2dfdf29",
   "metadata": {},
   "source": [
    "## Beginner tutorial"
   ]
  },
  {
   "cell_type": "code",
   "execution_count": null,
   "id": "13de154e",
   "metadata": {},
   "outputs": [],
   "source": [
    "def slur_parts(voice, counts):\n",
    "    notes = abjad.select.notes(voice)\n",
    "    parts = abjad.select.partition_by_counts(notes, counts, cyclic=True)\n",
    "    for part in parts:\n",
    "        first_note, last_note = part[0], part[-1]\n",
    "        accent = abjad.Articulation(\"accent\")\n",
    "        start_slur = abjad.StartSlur()\n",
    "        abjad.attach(accent, first_note)\n",
    "        abjad.attach(start_slur, first_note)\n",
    "        staccato = abjad.Articulation(\"staccato\")\n",
    "        stop_slur = abjad.StopSlur()\n",
    "        abjad.attach(staccato, last_note)\n",
    "        abjad.attach(stop_slur, last_note)"
   ]
  },
  {
   "cell_type": "code",
   "execution_count": null,
   "id": "81ea99dc",
   "metadata": {},
   "outputs": [],
   "source": [
    "def tupletize_notes(voice, counts, modulus):\n",
    "    notes = abjad.select.notes(voice)\n",
    "    parts = abjad.select.partition_by_counts(notes, counts, cyclic=True)\n",
    "    for i, part in enumerate(parts):\n",
    "        if i % len(counts) == modulus:\n",
    "            abjad.mutate.wrap(part, abjad.Tuplet(\"3:2\"))"
   ]
  },
  {
   "cell_type": "code",
   "execution_count": null,
   "id": "fa57cde5",
   "metadata": {},
   "outputs": [],
   "source": [
    "tempo = 90"
   ]
  },
  {
   "cell_type": "code",
   "execution_count": null,
   "id": "56c095ce",
   "metadata": {},
   "outputs": [],
   "source": [
    "string = r\"c''16 f'' g'' a'' d'' g'' a'' b'' e'' a'' b'' c''' f'' b'' c''' d'''16\"\n",
    "voice_1 = abjad.Voice(string, name=\"Voice_1\")\n",
    "staff_1 = abjad.Staff([voice_1], name=\"Staff_1\")\n",
    "\n",
    "markup = abjad.Markup('\\\\markup \"Cello I\"')\n",
    "instrument_name = abjad.InstrumentName(markup)\n",
    "abjad.attach(instrument_name, voice_1[0])\n",
    "\n",
    "mark = abjad.MetronomeMark((1, 4), tempo)\n",
    "abjad.attach(mark, voice_1[0])\n",
    "\n",
    "# abjad.show(staff_1)"
   ]
  },
  {
   "cell_type": "code",
   "execution_count": null,
   "id": "e83925f3",
   "metadata": {},
   "outputs": [],
   "source": [
    "pitches = string.split()\n",
    "pitches = reversed(pitches)\n",
    "retrograde = \" \".join(pitches)\n",
    "voice_1.extend(retrograde)\n",
    "# abjad.show(staff_1)"
   ]
  },
  {
   "cell_type": "code",
   "execution_count": null,
   "id": "3756f587",
   "metadata": {},
   "outputs": [],
   "source": [
    "string = string + \" \" + retrograde\n",
    "voice_2 = abjad.Voice(string, name=\"Voice_2\")\n",
    "staff_2 = abjad.Staff([voice_2], name=\"Staff_2\")\n",
    "\n",
    "markup = abjad.Markup('\\\\markup \"Cello II\"')\n",
    "instrument_name = abjad.InstrumentName(markup)\n",
    "abjad.attach(instrument_name, voice_2[0])\n",
    "\n",
    "mark = abjad.MetronomeMark((1, 4), tempo)\n",
    "abjad.attach(mark, voice_2[0])"
   ]
  },
  {
   "cell_type": "code",
   "execution_count": null,
   "id": "b7363a01",
   "metadata": {},
   "outputs": [],
   "source": [
    "score = abjad.Score([staff_1, staff_2], name=\"Score\")\n",
    "# abjad.show(score)"
   ]
  },
  {
   "cell_type": "code",
   "execution_count": null,
   "id": "c9283a92",
   "metadata": {},
   "outputs": [],
   "source": [
    "for note in abjad.select.notes(voice_2):\n",
    "    note.written_pitch = note.written_pitch.invert(axis=\"G4\")\n",
    "\n",
    "# abjad.show(score)"
   ]
  },
  {
   "cell_type": "code",
   "execution_count": null,
   "id": "7d1a5948",
   "metadata": {},
   "outputs": [],
   "source": [
    "slur_parts(voice_1, [2, 4, 4])\n",
    "# abjad.show(score)"
   ]
  },
  {
   "cell_type": "code",
   "execution_count": null,
   "id": "b99e1f81",
   "metadata": {},
   "outputs": [],
   "source": [
    "slur_parts(voice_2, [4])\n",
    "# abjad.show(score)"
   ]
  },
  {
   "cell_type": "code",
   "execution_count": null,
   "id": "bdff258b",
   "metadata": {},
   "outputs": [],
   "source": [
    "tupletize_notes(voice_1, [6, 4], 0)\n",
    "# abjad.show(score)"
   ]
  },
  {
   "cell_type": "code",
   "execution_count": null,
   "id": "df07931b",
   "metadata": {},
   "outputs": [],
   "source": [
    "tupletize_notes(voice_2, [4, 6], 1)\n",
    "# abjad.show(score)"
   ]
  },
  {
   "cell_type": "code",
   "execution_count": null,
   "id": "3625d13d",
   "metadata": {},
   "outputs": [],
   "source": [
    "del voice_1[-6:]\n",
    "del voice_2[-3:]\n",
    "# abjad.show(score)"
   ]
  },
  {
   "cell_type": "code",
   "execution_count": null,
   "id": "3b02113d",
   "metadata": {},
   "outputs": [],
   "source": [
    "first_note = abjad.select.note(voice_1, 0)\n",
    "time_signature = abjad.TimeSignature((2, 8))\n",
    "abjad.attach(time_signature, first_note)\n",
    "last_note = abjad.select.note(voice_2, -1)\n",
    "bar_line = abjad.BarLine(\"|.\")\n",
    "abjad.attach(bar_line, last_note)\n",
    "abjad.override(score).tuplet_bracket.staff_padding = 2\n",
    "# abjad.show(score)"
   ]
  },
  {
   "cell_type": "markdown",
   "id": "a0cf8525",
   "metadata": {},
   "source": [
    "### Some additions to the tutorial"
   ]
  },
  {
   "cell_type": "markdown",
   "id": "ce201627",
   "metadata": {},
   "source": [
    "### TODO:\n",
    "\n",
    "- Play inline midi\n",
    "- Render notes event file\n",
    "\n",
    "If I add midid block, note events are not generated."
   ]
  },
  {
   "cell_type": "code",
   "execution_count": null,
   "id": "10ae1a5f",
   "metadata": {},
   "outputs": [],
   "source": [
    "preamble = r\"\"\"#(ly:set-option 'relative-includes #t)\n",
    "\\include \"./event-listener.ly\"\n",
    "\"\"\"\n",
    "\n",
    "# score_block = abjad.Block(name=\"score\")\n",
    "# score_block.items.append(score)\n",
    "# midi_block = abjad.Block(name=\"midi\")\n",
    "# score_block.items.append(midi_block)\n",
    "\n",
    "lilypond_file = abjad.LilyPondFile([preamble, score])\n",
    "!rm ./out*\n",
    "abjad.persist.as_pdf(lilypond_file, \"out.pdf\")\n",
    "abjad.show(score)"
   ]
  },
  {
   "cell_type": "markdown",
   "id": "9183a955",
   "metadata": {},
   "source": [
    "### Render with Zak"
   ]
  },
  {
   "cell_type": "code",
   "execution_count": null,
   "id": "908a3e17",
   "metadata": {},
   "outputs": [],
   "source": [
    "from pathlib import Path\n",
    "\n",
    "import numpy as np\n",
    "import plotly.express as px\n",
    "import soundfile as sf\n",
    "import torch\n",
    "from IPython.display import Audio\n",
    "\n",
    "from performer.composition.score import parser\n",
    "from performer.models.ddsp_module import DDSP"
   ]
  },
  {
   "cell_type": "code",
   "execution_count": null,
   "id": "8e79afa1",
   "metadata": {},
   "outputs": [],
   "source": [
    "flt_ckpt = \"../checkpoints/flute_longrun.ckpt\"\n",
    "vln_ckpt = \"../checkpoints/violin_longrun.ckpt\"\n",
    "vlc_ckpt = \"../checkpoints/cello_longrun.ckpt\"\n",
    "drm_ckpt = \"../checkpoints/drums_baseline.ckpt\"\n",
    "with torch.inference_mode():\n",
    "    model = DDSP.load_from_checkpoint(flt_ckpt, map_location=\"cuda\")\n",
    "    model = model.to(\"cuda\")\n",
    "    model.eval()\n",
    "    pass"
   ]
  },
  {
   "cell_type": "code",
   "execution_count": null,
   "id": "6d0953c2",
   "metadata": {},
   "outputs": [],
   "source": [
    "notes = parser(\"out-Cello I.notes\")\n",
    "\n",
    "start = 0\n",
    "end = notes.notes[-1].t0 + notes.notes[-1].duration\n",
    "\n",
    "t = np.linspace(start, end, int(250 * (end - start)))\n",
    "env = notes.curve(t)\n",
    "f0 = torch.from_numpy(notes.freq(t).astype(\"float32\"))\n",
    "\n",
    "env = torch.from_numpy(env.astype(\"float32\"))\n",
    "adsr = env * 90 - 100\n",
    "\n",
    "with torch.inference_mode():\n",
    "    p1 = f0[None, None, :].cuda()\n",
    "    p2 = adsr[None, None, :].cuda()\n",
    "\n",
    "    y = model(p1, p2)\n",
    "\n",
    "y = y.cpu().squeeze().numpy()\n",
    "sf.write(\"out.wav\", y.T, 48000, \"PCM_24\")\n",
    "Audio(data=y, rate=48000)"
   ]
  },
  {
   "cell_type": "code",
   "execution_count": null,
   "id": "667e11a0",
   "metadata": {},
   "outputs": [],
   "source": [
    "px.line(env)"
   ]
  },
  {
   "cell_type": "markdown",
   "id": "cd20c6cd",
   "metadata": {},
   "source": [
    "## Mono/Poly voices"
   ]
  },
  {
   "cell_type": "code",
   "execution_count": null,
   "id": "fc50bf01",
   "metadata": {},
   "outputs": [],
   "source": [
    "voice_1 = abjad.Voice(r\"e''4 f''4 g''4 g''4 f''4 e''4 d''4 d''4 \\fermata\")\n",
    "voice_2 = abjad.Voice(r\"c''4 c''4 b'4 c''4 c''8 b'8 c''4 b'4 b'4 \\fermata\")\n",
    "poly = abjad.Container([voice_1, voice_2], simultaneous=True)\n",
    "literal = abjad.LilyPondLiteral(r\"\\voiceOne\")\n",
    "abjad.attach(literal, voice_1)\n",
    "literal = abjad.LilyPondLiteral(r\"\\voiceTwo\")\n",
    "abjad.attach(literal, voice_2)\n",
    "\n",
    "tail = abjad.Voice(r\"c''4 c''4 b'4 c''4 c''8 b'8 c''4 b'4 b'4 \\fermata\")\n",
    "staff = abjad.Staff([poly, tail], simultaneous=False)\n",
    "\n",
    "abjad.show(staff)"
   ]
  }
 ],
 "metadata": {
  "kernelspec": {
   "display_name": "Python 3 (ipykernel)",
   "language": "python",
   "name": "python3"
  },
  "language_info": {
   "codemirror_mode": {
    "name": "ipython",
    "version": 3
   },
   "file_extension": ".py",
   "mimetype": "text/x-python",
   "name": "python",
   "nbconvert_exporter": "python",
   "pygments_lexer": "ipython3",
   "version": "3.10.10"
  }
 },
 "nbformat": 4,
 "nbformat_minor": 5
}

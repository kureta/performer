{
 "cells": [
  {
   "cell_type": "code",
   "execution_count": null,
   "id": "f6cb0a31",
   "metadata": {},
   "outputs": [],
   "source": [
    "import librosa\n",
    "import numpy as np\n",
    "import plotly.express as px\n",
    "import soundfile as sf\n",
    "import torch\n",
    "from IPython.display import Audio\n",
    "\n",
    "from performer.models.ddsp_module import DDSP"
   ]
  },
  {
   "cell_type": "code",
   "execution_count": null,
   "id": "23aa5876",
   "metadata": {},
   "outputs": [],
   "source": [
    "VLC_CKPT = \"../checkpoints/cello_longrun.ckpt\"\n",
    "FPS = 250\n",
    "SAMPLE_RATE = 48000"
   ]
  },
  {
   "cell_type": "code",
   "execution_count": null,
   "id": "c253ac21",
   "metadata": {},
   "outputs": [],
   "source": [
    "with torch.inference_mode():\n",
    "    model = DDSP.load_from_checkpoint(VLC_CKPT, map_location=\"cuda\")\n",
    "    model = model.to(\"cuda\")\n",
    "    model.eval()\n",
    "    pass"
   ]
  },
  {
   "cell_type": "code",
   "execution_count": null,
   "id": "86eb81fb",
   "metadata": {},
   "outputs": [],
   "source": [
    "def t(end, start=0.0):\n",
    "    duration = end - start\n",
    "    return np.linspace(start, end, int(np.round(duration * FPS)), dtype=\"float32\")"
   ]
  },
  {
   "cell_type": "code",
   "execution_count": null,
   "id": "32aa64fd",
   "metadata": {},
   "outputs": [],
   "source": [
    "def line(x1, x2, duration):\n",
    "    return t(duration) * (x2 - x1) / duration + x1"
   ]
  },
  {
   "cell_type": "code",
   "execution_count": null,
   "id": "fd6079f5",
   "metadata": {},
   "outputs": [],
   "source": [
    "dbs = []\n",
    "freqs = []\n",
    "\n",
    "# make segment\n",
    "dur = 3.0\n",
    "db = line(-70, -14, dur)\n",
    "pitch = 29.0 * np.ones_like(db)\n",
    "f0 = librosa.midi_to_hz(pitch)\n",
    "\n",
    "# append to list of segments\n",
    "dbs.append(db)\n",
    "freqs.append(f0)\n",
    "\n",
    "# make another segment\n",
    "attack = line(-90, -20, 0.01)\n",
    "decay = line(-20, -40, 0.24)\n",
    "db = np.concatenate((attack, decay))\n",
    "pitch = 29.0 * np.ones_like(db)\n",
    "f0 = librosa.midi_to_hz(pitch)\n",
    "\n",
    "# append to list of segments\n",
    "for i in range(5):\n",
    "    dbs.append(db)\n",
    "    freqs.append(f0)\n",
    "\n",
    "# concat all segments into one signal\n",
    "db = np.concatenate(dbs)\n",
    "f0 = np.concatenate(freqs)\n",
    "\n",
    "# render audio\n",
    "with torch.inference_mode():\n",
    "    y = model(\n",
    "        torch.from_numpy(f0[None, None, :]).cuda(), torch.from_numpy(db[None, None, :]).cuda()\n",
    "    )\n",
    "\n",
    "# play audio\n",
    "Audio(data=y.cpu().squeeze(), rate=SAMPLE_RATE)"
   ]
  },
  {
   "cell_type": "code",
   "execution_count": null,
   "id": "d4b32689",
   "metadata": {},
   "outputs": [],
   "source": []
  }
 ],
 "metadata": {
  "kernelspec": {
   "display_name": "Python 3 (ipykernel)",
   "language": "python",
   "name": "python3"
  },
  "language_info": {
   "codemirror_mode": {
    "name": "ipython",
    "version": 3
   },
   "file_extension": ".py",
   "mimetype": "text/x-python",
   "name": "python",
   "nbconvert_exporter": "python",
   "pygments_lexer": "ipython3",
   "version": "3.10.10"
  }
 },
 "nbformat": 4,
 "nbformat_minor": 5
}

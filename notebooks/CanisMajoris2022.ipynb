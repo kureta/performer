{
 "cells": [
  {
   "cell_type": "code",
   "execution_count": null,
   "id": "325ab874",
   "metadata": {},
   "outputs": [],
   "source": [
    "%matplotlib inline\n",
    "\n",
    "import torch\n",
    "\n",
    "import numpy as np\n",
    "from scipy import interpolate\n",
    "import librosa\n",
    "from soundfile import write\n",
    "import music21\n",
    "\n",
    "import random\n",
    "from copy import deepcopy\n",
    "\n",
    "import math\n",
    "from itertools import permutations\n",
    "import csv\n",
    "\n",
    "from performer.models.ddsp_module import DDSP\n",
    "from performer.datamodules.components.ddsp_dataset import DDSPDataset\n",
    "\n",
    "from IPython.display import Audio, Image\n",
    "from matplotlib import pyplot as plt"
   ]
  },
  {
   "cell_type": "markdown",
   "id": "39715fe6",
   "metadata": {},
   "source": [
    "# Lilypond event stream parser"
   ]
  },
  {
   "cell_type": "markdown",
   "id": "b883a2b9",
   "metadata": {},
   "source": [
    "## Plan\n",
    "\n",
    "### Loudness envelope\n",
    "\n",
    "- Set default values for `attack_time`, `decay_time`, `release_time`.\n",
    "  - If duration is less than the sum of those:\n",
    "    - If duration is also less than `attack_time` + `decay_time` set both to half the duration\n",
    "  - Else, keep `attack_time`, extend `decay_time` to the end if necessary\n",
    "  - Extend duration with a sustain as necessary, if all of the above fits into the duration\n",
    "- Set `peak_amp` to 1.0 and set a default `sustain_amp`\n",
    "  - Multiply the resulting envelope with constant values if there are any dynamic indicators (ex. ___pp___, ___f___, ...)\n",
    "  - if there are no dynamic indicators at the start of the piece, assume ___mf___.\n",
    "  - If there are hairpins, multiply with a line from starting dynamic to ending dynamic\n",
    "  - ___sfz___ modifies `peak_amp` / `sustain_amp` ratio.\n",
    "  - Decide what to do with other dynamic indicators when they come up.\n",
    "  - Finally, map the envelop values from 0-1 to `min_db`-`max_db`.\n",
    "- If there is a slur or tie, total duration of the envelope will be equal to the duration of the slur.\n",
    "  - Maybe add tiny attack/decays if note changes inside the slur."
   ]
  },
  {
   "cell_type": "code",
   "execution_count": null,
   "id": "455062a3",
   "metadata": {},
   "outputs": [],
   "source": [
    "a_f1 = './CanisMajoris2022-Flute I.notes'"
   ]
  },
  {
   "cell_type": "code",
   "execution_count": null,
   "id": "d57577ea",
   "metadata": {},
   "outputs": [],
   "source": [
    "def whole_note_sec(tempo):\n",
    "    return 60 * 16 / tempo\n",
    "\n",
    "def moment_to_sec(moment, tempo):\n",
    "    return whole_note_sec(tempo) * moment"
   ]
  },
  {
   "cell_type": "code",
   "execution_count": null,
   "id": "847ea95a",
   "metadata": {},
   "outputs": [],
   "source": [
    "def to_float(val: float | str):\n",
    "    if isinstance(val, str):\n",
    "        return float(val)\n",
    "    else:\n",
    "        return val\n",
    "\n",
    "class Event:\n",
    "    def __init__(self, row):\n",
    "        self.moment = to_float(row[0])\n",
    "        self.tempo = None\n",
    "    \n",
    "    @property\n",
    "    def time(self) -> float:\n",
    "        return moment_to_sec(self.moment, self.tempo)\n",
    "    \n",
    "    def __repr__(self):\n",
    "        return f'<{self.__class__.__name__.upper()}>\\ttime: {self.time:.2f} tempo: {self.tempo:.2f}'\n",
    "\n",
    "class Tempo(Event):\n",
    "    def __init__(self, row):\n",
    "        super().__init__(row)\n",
    "        self.tempo = to_float(row[2])\n",
    "\n",
    "class NoteOrRest(Event):\n",
    "    def __init__(self, row, tempo):\n",
    "        super().__init__(row)        \n",
    "        self.tempo = tempo\n",
    "    \n",
    "    @property\n",
    "    def dur(self):\n",
    "        return moment_to_sec(self.dur_moment, self.tempo)\n",
    "    \n",
    "    def __repr__(self):\n",
    "        parent_repr = super().__repr__()\n",
    "        return f'{parent_repr} duration: {self.dur:.2f}'\n",
    "\n",
    "class Note(NoteOrRest):\n",
    "    def __init__(self, row, tempo):\n",
    "        super().__init__(row, tempo)\n",
    "        self.pitch = to_float(row[2])\n",
    "        self.dur_moment = to_float(row[4])\n",
    "    \n",
    "    def __repr__(self):\n",
    "        parent_repr = super().__repr__()\n",
    "        return f'{parent_repr} pitch: {self.pitch:.2f}'\n",
    "\n",
    "    @property\n",
    "    def dur(self):\n",
    "        return moment_to_sec(self.dur_moment, self.tempo)\n",
    "\n",
    "class Rest(NoteOrRest):\n",
    "    def __init__(self, row, tempo):\n",
    "        super().__init__(row, tempo)\n",
    "        self.dur_moment = to_float(row[3])"
   ]
  },
  {
   "cell_type": "code",
   "execution_count": null,
   "id": "33ca7c2d",
   "metadata": {},
   "outputs": [],
   "source": [
    "def parser(path: str):\n",
    "    with open(path) as csvfile:        \n",
    "        current_tempo = None\n",
    "        \n",
    "        for row in csv.reader(csvfile, delimiter='\\t'):\n",
    "            match row[1]:\n",
    "                case 'tempo':\n",
    "                    tempo = Tempo(row)\n",
    "                    current_tempo = tempo.tempo\n",
    "                    yield tempo\n",
    "                case 'note':\n",
    "                    yield Note(row, current_tempo)\n",
    "                case 'rest':\n",
    "                    yield Rest(row, current_tempo)\n",
    "                case default:\n",
    "                    yield f'_{row[1]}_\\t- Not Parsed!'"
   ]
  },
  {
   "cell_type": "code",
   "execution_count": null,
   "id": "f6c10a6f",
   "metadata": {},
   "outputs": [],
   "source": [
    "events = []\n",
    "pitch_vals = []\n",
    "amp_vals = []\n",
    "t_vals = []\n",
    "for event in parser(a_f1):\n",
    "    if isinstance(event, Note):\n",
    "        pitch_vals.append(event.pitch)\n",
    "        amp_vals.append(0.7)\n",
    "        t_vals.append(event.time)\n",
    "        pitch_vals.append(event.pitch)\n",
    "        amp_vals.append(0.7)\n",
    "        t_vals.append(event.time + event.dur - 1e-10)\n",
    "    elif isinstance(event, Rest):\n",
    "        last_pitch = pitch_vals[-1]\n",
    "        pitch_vals.append(last_pitch)\n",
    "        amp_vals.append(0.0)\n",
    "        t_vals.append(event.time)\n",
    "        pitch_vals.append(last_pitch)\n",
    "        amp_vals.append(0.0)\n",
    "        t_vals.append(event.time + event.dur - 1e-10)\n",
    "\n",
    "pitch = np.array(pitch_vals, dtype='float32')\n",
    "amp = np.array(amp_vals, dtype='float32')\n",
    "t = np.array(t_vals, dtype='float32')\n",
    "\n",
    "interp_pitch = interpolate.interp1d(t, pitch)\n",
    "interp_amp = interpolate.interp1d(t, amp)\n",
    "\n",
    "t_new = np.linspace(t[0], t[-1], round(t[-1] * 250), dtype='float32')\n",
    "\n",
    "pitch_new = interp_pitch(t_new)\n",
    "amp_new = interp_amp(t_new)"
   ]
  },
  {
   "cell_type": "code",
   "execution_count": null,
   "id": "1dab4788",
   "metadata": {},
   "outputs": [],
   "source": [
    "def map_from_unit(value, low, high):\n",
    "    scale = high - low\n",
    "    return value * scale + low"
   ]
  },
  {
   "cell_type": "code",
   "execution_count": null,
   "id": "d185471e",
   "metadata": {},
   "outputs": [],
   "source": [
    "def adsr(ta, td, tr, zero, peak, sustain, dur):\n",
    "    ts = dur - ta - td - tr\n",
    "    \n",
    "    env_a = torch.linspace(zero, peak, round(ta * 250))\n",
    "    env_d = torch.linspace(peak, sustain, round(td * 250))\n",
    "    env_sus = torch.ones(round(ts * 250)) * sustain\n",
    "    env_rel = torch.linspace(sustain, zero, round(tr * 250))\n",
    "\n",
    "    env = torch.cat([env_a, env_d, env_sus, env_rel]).cuda()\n",
    "    \n",
    "    return env"
   ]
  },
  {
   "cell_type": "code",
   "execution_count": null,
   "id": "b8f47b56",
   "metadata": {},
   "outputs": [],
   "source": [
    "freq = torch.from_numpy(midi_to_hz(pitch_new)).cuda()\n",
    "loudness = torch.from_numpy(map_from_unit(amp_new, -100, -15)).cuda()"
   ]
  },
  {
   "cell_type": "code",
   "execution_count": null,
   "id": "e4714555",
   "metadata": {},
   "outputs": [],
   "source": [
    "loudness.min(), loudness.max(), amp_new.min(), amp_new.max()"
   ]
  },
  {
   "cell_type": "code",
   "execution_count": null,
   "id": "e06e7255",
   "metadata": {},
   "outputs": [],
   "source": [
    "with torch.inference_mode():\n",
    "    y = model(freq[None, None, :], loudness[None, None, :]).squeeze()"
   ]
  },
  {
   "cell_type": "code",
   "execution_count": null,
   "id": "0d3ecf39",
   "metadata": {},
   "outputs": [],
   "source": [
    "Audio(data=y.cpu(), rate=48000, normalize=True)"
   ]
  },
  {
   "cell_type": "markdown",
   "id": "8e1f30f3",
   "metadata": {},
   "source": [
    "# Old method"
   ]
  },
  {
   "cell_type": "code",
   "execution_count": null,
   "id": "a9062ccb",
   "metadata": {},
   "outputs": [],
   "source": [
    "us = music21.environment.UserSettings()\n",
    "us['musescoreDirectPNGPath'] = '/usr/bin/musescore'"
   ]
  },
  {
   "cell_type": "code",
   "execution_count": null,
   "id": "795722d5",
   "metadata": {},
   "outputs": [],
   "source": [
    "flt_ckpt = '../checkpoints/flute_longrun.ckpt'"
   ]
  },
  {
   "cell_type": "code",
   "execution_count": null,
   "id": "f1a8e972",
   "metadata": {},
   "outputs": [],
   "source": [
    "def midi_to_hz(midi: float) -> float:\n",
    "    return 440. * 2**((midi - 69) / 12)\n",
    "\n",
    "def hz_to_midi(hz: float) -> float:\n",
    "    return 12 * torch.log2(hz / 440) + 69\n",
    "\n",
    "def ratio_to_interval(ratio):\n",
    "    return 12 * torch.log2(ratio)"
   ]
  },
  {
   "cell_type": "code",
   "execution_count": null,
   "id": "1e975f3f",
   "metadata": {},
   "outputs": [],
   "source": [
    "def adsr(ta, td, tr, zero, peak, sustain, dur):\n",
    "    ts = dur - ta - td - tr\n",
    "    \n",
    "    env_a = torch.linspace(zero, peak, round(ta * 250))\n",
    "    env_d = torch.linspace(peak, sustain, round(td * 250))\n",
    "    env_sus = torch.ones(round(ts * 250)) * sustain\n",
    "    env_rel = torch.linspace(sustain, zero, round(tr * 250))\n",
    "\n",
    "    env = torch.cat([env_a, env_d, env_sus, env_rel]).cuda()\n",
    "    \n",
    "    return env"
   ]
  },
  {
   "cell_type": "code",
   "execution_count": null,
   "id": "741beed3",
   "metadata": {},
   "outputs": [],
   "source": [
    "def sin(ts: float, f: float):\n",
    "    t = torch.arange(int(ts * 250), dtype=torch.float32, device='cuda') / 250\n",
    "    result = torch.sin(2 * np.pi * f * t)\n",
    "    \n",
    "    return result\n",
    "\n",
    "def sin_like(ts: torch.Tensor, f: float):\n",
    "    t = torch.arange(ts.shape[-1], dtype=torch.float32, device='cuda') / 250\n",
    "    result = torch.sin(2 * np.pi * f * t)\n",
    "    \n",
    "    return result"
   ]
  },
  {
   "cell_type": "code",
   "execution_count": null,
   "id": "30fb3f76",
   "metadata": {},
   "outputs": [],
   "source": [
    "def show(music):\n",
    "    display(Image(str(music.write(\"lily.png\"))))"
   ]
  },
  {
   "cell_type": "code",
   "execution_count": null,
   "id": "c1a7d6a1",
   "metadata": {},
   "outputs": [],
   "source": [
    "def add_microtone(note):\n",
    "    cents = note.pitch.microtone.cents\n",
    "    prefix = ''\n",
    "    if cents > 0:\n",
    "        prefix = '+'\n",
    "    if abs(cents) >= 10:\n",
    "        note.addLyric(f'{prefix}{int(np.round(cents))}', applyRaw=True)"
   ]
  },
  {
   "cell_type": "code",
   "execution_count": null,
   "id": "b18be836",
   "metadata": {},
   "outputs": [],
   "source": [
    "with torch.inference_mode():\n",
    "    model = DDSP.load_from_checkpoint(flt_ckpt, map_location='cuda')\n",
    "    model = model.to('cuda')\n",
    "    model.eval()\n",
    "    pass"
   ]
  },
  {
   "cell_type": "code",
   "execution_count": null,
   "id": "df13f6b0",
   "metadata": {},
   "outputs": [],
   "source": [
    "rand = random.Random(123)\n",
    "beat = 0.75  # 1 beat is 0.75 seconds\n",
    "fps = 250"
   ]
  },
  {
   "cell_type": "code",
   "execution_count": null,
   "id": "16bb8222",
   "metadata": {},
   "outputs": [],
   "source": [
    "def build_measure(p1, p2):\n",
    "    one = music21.note.Note(quarterLength=1/3)\n",
    "    one.pitch.frequency = p1\n",
    "    add_microtone(one)\n",
    "\n",
    "    two = music21.note.Note(quarterLength=1/3)\n",
    "    two.pitch.frequency = p2\n",
    "    two.articulations.append(music21.articulations.Staccato())\n",
    "    add_microtone(two)\n",
    "\n",
    "    sl1 = music21.spanner.Slur([one, two])\n",
    "\n",
    "    rest1 = music21.note.Rest(1/3)\n",
    "    rest = music21.note.Rest(4)\n",
    "\n",
    "    m01 = music21.stream.Measure(number=1)\n",
    "\n",
    "    m01.append(music21.dynamics.Dynamic('sfz'))\n",
    "    m01.append(one)\n",
    "    m01.append(two)\n",
    "    m01.append(sl1)\n",
    "    m01.append(rest1)\n",
    "    m01.append(rest)\n",
    "    \n",
    "    return m01"
   ]
  },
  {
   "cell_type": "code",
   "execution_count": null,
   "id": "58769d9a",
   "metadata": {},
   "outputs": [],
   "source": [
    "constant = [2, 3, 5, 7, 11/2, 13/2, 17/4, 19/4]"
   ]
  },
  {
   "cell_type": "code",
   "execution_count": null,
   "id": "ac91356f",
   "metadata": {},
   "outputs": [],
   "source": [
    "mm = music21.stream.Measure()\n",
    "for val in constant:\n",
    "    nn = music21.note.Note()\n",
    "    freq = midi_to_hz(ratio_to_interval(torch.tensor(val)) + 52)\n",
    "    nn.pitch.frequency = freq\n",
    "    mm.append(nn)\n",
    "mm.show()"
   ]
  },
  {
   "cell_type": "code",
   "execution_count": null,
   "id": "feb6f30d",
   "metadata": {},
   "outputs": [],
   "source": [
    "from fractions import Fraction"
   ]
  },
  {
   "cell_type": "code",
   "execution_count": null,
   "id": "e0ad0c14",
   "metadata": {},
   "outputs": [],
   "source": [
    "lines = [\n",
    "    [(0, 1), (2, 7), (2, 4), (5, 2), (7, 5), (7, 6), (7, 6), (2, 5)],\n",
    "    [(7, 5), (4, 3), (7, 3), (3, 0), (1, 0), (3, 1), (4, 5), (3, 0)],\n",
    "]"
   ]
  },
  {
   "cell_type": "code",
   "execution_count": null,
   "id": "01d86490",
   "metadata": {},
   "outputs": [],
   "source": [
    "cons = [Fraction(c) for c in constant]\n",
    "[(cons[i], cons[j]) for i, j in lines[1]]    "
   ]
  },
  {
   "cell_type": "code",
   "execution_count": null,
   "id": "27e2ee3c",
   "metadata": {},
   "outputs": [],
   "source": [
    "amp = adsr(0.1, 0.7, 0.01, -100, -8, -48, 1.5 * beat)\n",
    "silence = torch.ones(round(3.5 * beat * fps), device='cuda') * -100.\n",
    "env = torch.cat([amp, silence], dim=-1)\n",
    "\n",
    "\n",
    "s = music21.stream.Score(id='mainScore')\n",
    "part0 = music21.stream.Part(id='part0')\n",
    "part1 = music21.stream.Part(id='part1')\n",
    "\n",
    "\n",
    "ys = []\n",
    "parts = [part0, part1]\n",
    "lines = [\n",
    "#     [(0, 1), (2, 4), (7, 4), (5, 2), (7, 5), (7, 6), (7, 6), (7, 6)],\n",
    "#     [(7, 5), (2, 3), (7, 3), (3, 0), (1, 0), (3, 1), (4, 5), (3, 0)],\n",
    "    [(0, 1), (2, 7), (2, 4), (5, 2), (7, 5), (7, 6), (7, 6), (2, 5)],\n",
    "    [(7, 5), (4, 3), (7, 3), (3, 0), (1, 0), (3, 1), (4, 5), (3, 0)],\n",
    "]\n",
    "for part, line in zip(parts, lines):\n",
    "    oll = []\n",
    "    for idx1, idx2 in line:\n",
    "        with torch.inference_mode():\n",
    "            p1 = midi_to_hz(ratio_to_interval(torch.tensor(constant[idx1])) + 52)\n",
    "            p2 = midi_to_hz(ratio_to_interval(torch.tensor(constant[idx2])) + 52)\n",
    "            mezura = build_measure(p1, p2)\n",
    "            # if j % 3 == 2:\n",
    "            #     mezura.append(music21.layout.SystemLayout(isNew=True))\n",
    "            part.append(mezura)\n",
    "            \n",
    "            f0 = torch.ones_like(env) * p2\n",
    "            f0[:int(beat*0.333*fps)] = p1\n",
    "            y = model(f0[None, None, :], env[None, None, :])\n",
    "            oll.append(y)\n",
    "\n",
    "    ys.append(torch.cat(oll, dim=-1).cpu().numpy().squeeze())\n",
    "\n",
    "\n",
    "tempo = music21.tempo.MetronomeMark(referent=1.0, number=90.0)\n",
    "\n",
    "for part in parts:\n",
    "    part.measure(1).insert(tempo)\n",
    "    part.insert(0, music21.meter.TimeSignature('5/4'))\n",
    "    s.insert(0, part)\n",
    "\n",
    "f0 = midi_to_hz(torch.ones_like(env, device='cuda') * 51-12)\n",
    "amp = adsr(0.1, 0.7, 0.01, -100, -3, -48, 2.5 * beat)\n",
    "silence = torch.ones(round(2.5 * beat * fps), device='cuda') * -100.\n",
    "env = torch.cat([amp, silence], dim=-1)\n",
    "oll = []\n",
    "for _ in range(8):\n",
    "    with torch.inference_mode():\n",
    "        y = model(f0[None, None, :], env[None, None, :])  # * (torch.randn(1, device='cuda') * 0.25 + 1))\n",
    "        oll.append(y)\n",
    "\n",
    "ys.append(torch.cat(oll, dim=-1).cpu().numpy().squeeze())\n",
    "\n",
    "s.show()\n",
    "Audio(data=sum(ys), rate=48000, normalize=True)"
   ]
  },
  {
   "cell_type": "code",
   "execution_count": null,
   "id": "e1d051cd",
   "metadata": {},
   "outputs": [],
   "source": [
    "env.min(), env.max()"
   ]
  },
  {
   "cell_type": "code",
   "execution_count": null,
   "id": "97fd6e25",
   "metadata": {},
   "outputs": [],
   "source": [
    "plt.plot(env.cpu())"
   ]
  },
  {
   "cell_type": "code",
   "execution_count": null,
   "id": "c9ef19fb",
   "metadata": {},
   "outputs": [],
   "source": [
    "vector = microtones.JIVector(syntonic_commas_down=2)"
   ]
  },
  {
   "cell_type": "code",
   "execution_count": null,
   "id": "774ea429",
   "metadata": {},
   "outputs": [],
   "source": [
    "vector.calculate_ji_markup()"
   ]
  },
  {
   "cell_type": "code",
   "execution_count": null,
   "id": "a06a3eec",
   "metadata": {},
   "outputs": [],
   "source": [
    "class HEJIAccidental:  # give a _tweaks value?\n",
    "    def __init__(\n",
    "        self,\n",
    "        accidental_markup=None,\n",
    "    ):\n",
    "        self.accidental_markup = accidental_markup\n",
    "\n",
    "\n",
    "class HEJIPitch:\n",
    "    def __init__(\n",
    "        self,\n",
    "        fundamental=None,\n",
    "        ratio=None,\n",
    "    ):\n",
    "        self.fundamental = fundamental\n",
    "        self.ratio = ratio\n",
    "        self.bundle = microtones.make_ji_bundle(self.fundamental, self.ratio)\n",
    "        self.accidental = self._calculate_accidental_markup()\n",
    "        self.et_cent_deviation_markup = self._calculate_et_cent_deviation()\n",
    "        self.written_pitch = self._calculate_written_pitch()\n",
    "\n",
    "    def __str__(self):\n",
    "        s = f\"{self.written_pitch}!\"  # do not allow to be unforced?\n",
    "        return s\n",
    "\n",
    "    def _calculate_accidental_markup(self):\n",
    "        accidental_markup = self.bundle.vector.calculate_ji_markup()\n",
    "        a = HEJIAccidental(accidental_markup)\n",
    "        return a\n",
    "\n",
    "    def _calculate_et_cent_deviation(self):\n",
    "        deviation = microtones.return_cent_deviation_markup(\n",
    "            ratio=self.ratio,\n",
    "            fundamental=self.fundamental,\n",
    "            chris=False,\n",
    "        )\n",
    "        return deviation\n",
    "\n",
    "    def _calculate_written_pitch(self):\n",
    "        temp_note = abjad.Note(self.fundamental, (1, 4))\n",
    "        microtones.tune_to_ratio(temp_note.note_head, self.ratio)\n",
    "        written_pitch = temp_note.written_pitch\n",
    "        return written_pitch\n",
    "\n",
    "    def _get_lilypond_format(self):\n",
    "        return str(self)\n"
   ]
  },
  {
   "cell_type": "code",
   "execution_count": null,
   "id": "2d54002c",
   "metadata": {},
   "outputs": [],
   "source": [
    "p = HEJIPitch(\"c'\", \"5/4\")"
   ]
  },
  {
   "cell_type": "code",
   "execution_count": null,
   "id": "e101223c",
   "metadata": {},
   "outputs": [],
   "source": [
    "p.accidental.accidental_markup"
   ]
  },
  {
   "cell_type": "code",
   "execution_count": null,
   "id": "4774e799",
   "metadata": {},
   "outputs": [],
   "source": [
    "string = \"d'8 f' a' d'' f'' gs'4 r8 e' gs' b' e'' gs'' a'4\"\n",
    "voice = abjad.Voice(string, name=\"RH_Voice\")\n",
    "staff = abjad.Staff([voice], name=\"RH_Staff\")\n",
    "score = abjad.Score([staff], name=\"Score\")\n",
    "abjad.show(score)"
   ]
  },
  {
   "cell_type": "code",
   "execution_count": null,
   "id": "05f1d7f7",
   "metadata": {},
   "outputs": [],
   "source": [
    "note = abjad.Note(\"c'4\")\n",
    "staff = abjad.Staff([note])\n",
    "score = abjad.Score([staff])\n",
    "leaf = abjad.get.leaf(score, 0)\n",
    "abjad.attach(score, abjad.LilyPondLiteral('\\tune 5', site='before'))"
   ]
  },
  {
   "cell_type": "code",
   "execution_count": null,
   "id": "6d83703e",
   "metadata": {},
   "outputs": [],
   "source": [
    "lilypond_file = abjad.LilyPondFile(\n",
    "    items=[\n",
    "        \"#(set-default-paper-size \\\"a4\\\" \\'portrait)\",\n",
    "        r\"#(set-global-staff-size 16)\",\n",
    "        \"\\\\include \\'microlily/he.ly\\'\",\n",
    "        score,\n",
    "        abjad.Block(name=\"layout\"),\n",
    "    ],\n",
    ")\n",
    "style = '\"dodecaphonic\"'\n",
    "lilypond_file[\"layout\"].items.append(fr\"\\accidentalStyle {style}\" )"
   ]
  },
  {
   "cell_type": "code",
   "execution_count": null,
   "id": "b566a76a",
   "metadata": {},
   "outputs": [],
   "source": [
    "abjad.show(score)"
   ]
  },
  {
   "cell_type": "code",
   "execution_count": null,
   "id": "ca52d1bd",
   "metadata": {},
   "outputs": [],
   "source": [
    "abjad.attach(p.accidental.accidental_markup, voice[5])\n",
    "abjad.show(score)"
   ]
  },
  {
   "cell_type": "code",
   "execution_count": null,
   "id": "6f2a23e3",
   "metadata": {},
   "outputs": [],
   "source": [
    "shit = abjad.NumberedPitch(12.18)"
   ]
  },
  {
   "cell_type": "code",
   "execution_count": null,
   "id": "650cec51",
   "metadata": {},
   "outputs": [],
   "source": [
    "shit."
   ]
  },
  {
   "cell_type": "code",
   "execution_count": null,
   "id": "3f058901",
   "metadata": {},
   "outputs": [],
   "source": [
    "p0 = music21.stream.Part(id='part0')\n",
    "p0.insert(0, music21.meter.TimeSignature('5/4'))\n",
    "for m in measures:\n",
    "    p0.append(m)\n",
    "tempo = music21.tempo.MetronomeMark(referent=1.0, number=90.0)\n",
    "p0.measure(1).insert(tempo)"
   ]
  },
  {
   "cell_type": "code",
   "execution_count": null,
   "id": "5d755c60",
   "metadata": {},
   "outputs": [],
   "source": [
    "p0.show()"
   ]
  },
  {
   "cell_type": "code",
   "execution_count": null,
   "id": "bb77311f",
   "metadata": {},
   "outputs": [],
   "source": [
    "one = music21.note.Note(quarterLength=1/3)\n",
    "one.pitch.frequency = 440*11/7\n",
    "add_microtone(one)\n",
    "\n",
    "two = music21.note.Note(quarterLength=1/3)\n",
    "two.pitch.frequency = 440*11/13\n",
    "two.articulations.append(music21.articulations.Staccato())\n",
    "add_microtone(two)\n",
    "\n",
    "sl1 = music21.spanner.Slur([one, two])\n",
    "\n",
    "rest1 = music21.note.Rest(1/3)\n",
    "\n",
    "rest = music21.note.Rest(4)\n",
    "\n",
    "s = music21.stream.Score(id='mainScore')\n",
    "p0 = music21.stream.Part(id='part0')\n",
    "\n",
    "m01 = music21.stream.Measure(number=1)\n",
    "\n",
    "m01.append(music21.dynamics.Dynamic('sfz'))\n",
    "m01.append(one)\n",
    "m01.append(two)\n",
    "m01.append(sl1)\n",
    "m01.append(rest1)\n",
    "m01.append(rest)\n",
    "\n",
    "for i in range(10):\n",
    "    mezura = deepcopy(m01)\n",
    "    if i % 3 == 2:\n",
    "        mezura.append(music21.layout.SystemLayout(isNew=True))\n",
    "    p0.append(mezura)\n",
    "\n",
    "tempo = music21.tempo.MetronomeMark(referent=1.0, number=90.0)\n",
    "p0.measure(1).insert(tempo)\n",
    "p0.insert(0, music21.meter.TimeSignature('5/4'))\n",
    "s.insert(0, p0)\n",
    "s.show()"
   ]
  },
  {
   "cell_type": "code",
   "execution_count": null,
   "id": "b8758f4e",
   "metadata": {},
   "outputs": [],
   "source": [
    "one.seconds"
   ]
  },
  {
   "cell_type": "code",
   "execution_count": null,
   "id": "3a17ce4b",
   "metadata": {},
   "outputs": [],
   "source": []
  }
 ],
 "metadata": {
  "kernelspec": {
   "display_name": "Python 3 (ipykernel)",
   "language": "python",
   "name": "python3"
  },
  "language_info": {
   "codemirror_mode": {
    "name": "ipython",
    "version": 3
   },
   "file_extension": ".py",
   "mimetype": "text/x-python",
   "name": "python",
   "nbconvert_exporter": "python",
   "pygments_lexer": "ipython3",
   "version": "3.10.8"
  }
 },
 "nbformat": 4,
 "nbformat_minor": 5
}

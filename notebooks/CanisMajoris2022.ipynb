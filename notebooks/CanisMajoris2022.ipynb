{
 "cells": [
  {
   "cell_type": "code",
   "execution_count": null,
   "id": "325ab874",
   "metadata": {},
   "outputs": [],
   "source": [
    "%matplotlib inline\n",
    "import torch\n",
    "\n",
    "import numpy as np\n",
    "from scipy import interpolate\n",
    "import librosa\n",
    "from soundfile import write\n",
    "import music21\n",
    "\n",
    "import random\n",
    "from copy import deepcopy\n",
    "\n",
    "from performer.models.ddsp_module import DDSP\n",
    "from performer.datamodules.components.ddsp_dataset import DDSPDataset\n",
    "\n",
    "from IPython.display import Audio, Image\n",
    "from matplotlib import pyplot as plt\n",
    "\n",
    "# import warnings\n",
    "# warnings.filterwarnings(\"ignore\")\n",
    "# warnings.simplefilter(\"ignore\")"
   ]
  },
  {
   "cell_type": "code",
   "execution_count": null,
   "id": "a9062ccb",
   "metadata": {},
   "outputs": [],
   "source": [
    "us = music21.environment.UserSettings()\n",
    "us['musescoreDirectPNGPath'] = '/usr/bin/musescore'"
   ]
  },
  {
   "cell_type": "code",
   "execution_count": null,
   "id": "795722d5",
   "metadata": {},
   "outputs": [],
   "source": [
    "vln_ckpt = '../checkpoints/violin_longrun.ckpt'\n",
    "vlc_ckpt = '../checkpoints/cello_longrun.ckpt'\n",
    "flt_ckpt = '../checkpoints/flute_longrun.ckpt'\n",
    "\n",
    "vln_data = \"../data/violin_samples.pth\"\n",
    "vlc_data = \"../data/cello_samples.pth\"\n",
    "flt_data = \"../data/flute_samples.pth\""
   ]
  },
  {
   "cell_type": "code",
   "execution_count": null,
   "id": "ca17746f",
   "metadata": {},
   "outputs": [],
   "source": [
    "for path in [vln_data, vlc_data, flt_data]:\n",
    "    dataset = DDSPDataset(path)\n",
    "    print(path, dataset.loudness.mean(), dataset.loudness.std())"
   ]
  },
  {
   "cell_type": "code",
   "execution_count": null,
   "id": "f1a8e972",
   "metadata": {},
   "outputs": [],
   "source": [
    "def midi_to_hz(midi: float) -> float:\n",
    "    return 440. * 2**((midi - 69) / 12)\n",
    "\n",
    "def hz_to_midi(hz: float) -> float:\n",
    "    return 12 * torch.log2(hz / 440) + 69\n",
    "\n",
    "def ratio_to_interval(ratio):\n",
    "    return 12 * torch.log2(ratio)"
   ]
  },
  {
   "cell_type": "code",
   "execution_count": null,
   "id": "73409d86",
   "metadata": {},
   "outputs": [],
   "source": [
    "def adsr(\n",
    "    ts: float, a: float, d: float, r:float, zero: float = 0., peak: float = 1., s: float = 0.5\n",
    ") -> torch.Tensor:\n",
    "    attack = torch.linspace(zero, peak, int(a * 250))\n",
    "    decay = torch.linspace(peak, s, int(d * 250))\n",
    "    sustain = torch.ones(int(ts * 250)) * s\n",
    "    release = torch.linspace(s, zero, int(r * 250))\n",
    "\n",
    "    env = torch.cat([attack, decay, sustain, release])[None, None, :].cuda()\n",
    "    \n",
    "    return env"
   ]
  },
  {
   "cell_type": "code",
   "execution_count": null,
   "id": "741beed3",
   "metadata": {},
   "outputs": [],
   "source": [
    "def sin(ts: float, f: float):\n",
    "    t = torch.arange(int(ts * 250), dtype=torch.float32, device='cuda') / 250\n",
    "    result = torch.sin(2 * np.pi * f * t)\n",
    "    \n",
    "    return result\n",
    "\n",
    "def sin_like(ts: torch.Tensor, f: float):\n",
    "    t = torch.arange(ts.shape[-1], dtype=torch.float32, device='cuda') / 250\n",
    "    result = torch.sin(2 * np.pi * f * t)\n",
    "    \n",
    "    return result"
   ]
  },
  {
   "cell_type": "code",
   "execution_count": null,
   "id": "b18be836",
   "metadata": {},
   "outputs": [],
   "source": [
    "with torch.inference_mode():\n",
    "    model = DDSP.load_from_checkpoint(flt_ckpt, map_location='cuda')\n",
    "    model = model.to('cuda')\n",
    "    model.eval()\n",
    "    pass"
   ]
  },
  {
   "cell_type": "code",
   "execution_count": null,
   "id": "6109559a",
   "metadata": {},
   "outputs": [],
   "source": [
    "zero, peak, sus, std = -100, -48+15*3, -48, 15\n",
    "a, d, s, r = 0.1, 0.9, 0.1, 0.01\n",
    "\n",
    "attack = torch.linspace(zero, peak, int(a*250), device='cuda')\n",
    "decay = torch.linspace(peak, sus, int(d*250), device='cuda')\n",
    "sustain = torch.linspace(sus, sus-std, int(s*250), device='cuda')\n",
    "release = torch.linspace(sus-std, zero, int(r*250), device='cuda')\n",
    "silence = torch.ones(int(2.7*250), device='cuda') * zero\n",
    "\n",
    "amp = torch.cat([attack, decay, sustain, release, silence])\n",
    "\n",
    "amp += torch.randn_like(amp) * 0.01\n",
    "amp += sin_like(amp, 4) * 1"
   ]
  },
  {
   "cell_type": "code",
   "execution_count": null,
   "id": "713d7eea",
   "metadata": {},
   "outputs": [],
   "source": [
    "constant = [2, 3, 5, 7, 11/2, 13/2, 17/4, 19/4]\n",
    "# constant = [1, 2, 3/2, 4/3, 5/3, 5/4, 7/5, 8/5, 7/4, 6/5, 9/7, 11/8, 10/7, 11/7, 13/8, 12/7, 9/5]\n",
    "\n",
    "rand = random.Random(123)\n",
    "# constant = [1, 11/8, 11/7, 11/3]\n",
    "def get_melody(c):\n",
    "    # repeat = rand.randint(1, 3)\n",
    "    repeat = 1\n",
    "    ratios = np.array(c * repeat, dtype='float32')\n",
    "    tt = np.linspace(0, 1, len(ratios), dtype='float32')\n",
    "    ttt = np.linspace(0, 1, len(amp), dtype='float32')\n",
    "\n",
    "    interp = interpolate.interp1d(tt, ratios, kind='nearest')\n",
    "\n",
    "    factors = torch.from_numpy(interp(ttt)).cuda()\n",
    "\n",
    "    changes = torch.cat([torch.tensor([0.], device='cuda'),torch.abs(factors[:1] - factors[1:])]) * 2\n",
    "    f0 = torch.ones_like(amp, device='cuda') * 51.\n",
    "    f0 += ratio_to_interval(factors)\n",
    "    f0 = midi_to_hz(f0)\n",
    "    \n",
    "    return f0, changes, ratios"
   ]
  },
  {
   "cell_type": "code",
   "execution_count": null,
   "id": "27e2ee3c",
   "metadata": {},
   "outputs": [],
   "source": [
    "ys = []\n",
    "for _ in range(2):\n",
    "    oll = []\n",
    "    for _ in range(8):\n",
    "        rand.shuffle(constant)\n",
    "        with torch.inference_mode():\n",
    "            f0, changes, ratios = get_melody(constant)\n",
    "            y = model(f0[None, None, :], amp[None, None, :])\n",
    "            oll.append(y)\n",
    "\n",
    "    ys.append(torch.cat(oll, dim=-1).cpu().numpy().squeeze())\n",
    "\n",
    "\n",
    "f0 = midi_to_hz(torch.ones_like(amp, device='cuda') * 51-12)\n",
    "oll = []\n",
    "for _ in range(8):\n",
    "    with torch.inference_mode():\n",
    "        y = model(f0[None, None, :], amp[None, None, :] * (torch.randn(1, device='cuda') * 0.25 + 1))\n",
    "        oll.append(y)\n",
    "\n",
    "ys.append(torch.cat(oll, dim=-1).cpu().numpy().squeeze())\n",
    "\n",
    "Audio(data=sum(ys), rate=48000, normalize=True)"
   ]
  },
  {
   "cell_type": "code",
   "execution_count": null,
   "id": "ebb11d00",
   "metadata": {},
   "outputs": [],
   "source": [
    "Audio(data=ys[-1], rate=48000, normalize=False)"
   ]
  },
  {
   "cell_type": "code",
   "execution_count": null,
   "id": "0c30a351",
   "metadata": {},
   "outputs": [],
   "source": [
    "amp.shape"
   ]
  },
  {
   "cell_type": "code",
   "execution_count": null,
   "id": "34774182",
   "metadata": {},
   "outputs": [],
   "source": [
    "[(note := music21.note.Note(float(ratio_to_interval(torch.tensor(c))+51)), c, note.octave) for c in constant]"
   ]
  },
  {
   "cell_type": "code",
   "execution_count": null,
   "id": "dc59ffcc",
   "metadata": {},
   "outputs": [],
   "source": [
    "# yy = np.zeros_like(_y)"
   ]
  },
  {
   "cell_type": "code",
   "execution_count": null,
   "id": "584f851e",
   "metadata": {},
   "outputs": [],
   "source": [
    "yy += _y"
   ]
  },
  {
   "cell_type": "code",
   "execution_count": null,
   "id": "f72bc9b2",
   "metadata": {},
   "outputs": [],
   "source": [
    "Audio(data=yy, rate=48000)"
   ]
  },
  {
   "cell_type": "code",
   "execution_count": null,
   "id": "ff1576c2",
   "metadata": {},
   "outputs": [],
   "source": [
    "new_sorted = []\n",
    "for c in sorted(constant):\n",
    "    midi = ratio_to_interval(torch.tensor(c))\n",
    "    while midi >= 12.:\n",
    "        midi -= 12.\n",
    "    new_sorted.append(midi*100)\n",
    "    print(midi - midi.round(),\n",
    "          music21.note.Note(midi.round()).pitch.name)\n",
    "for f in sorted(new_sorted):\n",
    "    print(f'{f:.2f}')"
   ]
  },
  {
   "cell_type": "code",
   "execution_count": null,
   "id": "1e3af71a",
   "metadata": {},
   "outputs": [],
   "source": [
    "f0 = torch.ones_like(amp, device='cuda') * 440. * torch.from_numpy(factors).cuda()"
   ]
  },
  {
   "cell_type": "code",
   "execution_count": null,
   "id": "917594f4",
   "metadata": {},
   "outputs": [],
   "source": [
    "sound = y + y2"
   ]
  },
  {
   "cell_type": "code",
   "execution_count": null,
   "id": "9a50cd6c",
   "metadata": {},
   "outputs": [],
   "source": [
    "Audio(data=sound.squeeze().cpu().numpy(), rate=48000)"
   ]
  },
  {
   "cell_type": "code",
   "execution_count": null,
   "id": "98a211ed",
   "metadata": {},
   "outputs": [],
   "source": [
    "write('1.wav', y.squeeze().T.cpu().numpy(), 48000)"
   ]
  },
  {
   "cell_type": "code",
   "execution_count": null,
   "id": "f9b35fff",
   "metadata": {},
   "outputs": [],
   "source": [
    "write('2.wav', y2.squeeze().T.cpu().numpy(), 48000)"
   ]
  },
  {
   "cell_type": "code",
   "execution_count": null,
   "id": "30fb3f76",
   "metadata": {},
   "outputs": [],
   "source": [
    "def show(music):\n",
    "    display(Image(str(music.write(\"lily.png\"))))"
   ]
  },
  {
   "cell_type": "code",
   "execution_count": null,
   "id": "ac44cc28",
   "metadata": {},
   "outputs": [],
   "source": [
    "def to_str(microtone):\n",
    "    return str(microtone)[1:-1]"
   ]
  },
  {
   "cell_type": "code",
   "execution_count": null,
   "id": "c1a7d6a1",
   "metadata": {},
   "outputs": [],
   "source": [
    "def add_microtone(note):\n",
    "    cents = note.pitch.microtone.cents\n",
    "    prefix = ''\n",
    "    if cents > 0:\n",
    "        prefix = '+'\n",
    "    if abs(cents) >= 10:\n",
    "        note.addLyric(f'{prefix}{int(np.round(cents))}', applyRaw=True)"
   ]
  },
  {
   "cell_type": "code",
   "execution_count": null,
   "id": "1724da1c",
   "metadata": {},
   "outputs": [],
   "source": [
    "one.pitch.microtone.cents"
   ]
  },
  {
   "cell_type": "code",
   "execution_count": null,
   "id": "bb77311f",
   "metadata": {},
   "outputs": [],
   "source": [
    "one = music21.note.Note(quarterLength=0.5)\n",
    "one.pitch.frequency = 440*11/7\n",
    "add_microtone(one)\n",
    "\n",
    "two = music21.note.Note(quarterLength=0.5)\n",
    "two.pitch.frequency = 440*11/13\n",
    "add_microtone(two)\n",
    "\n",
    "rest = music21.note.Rest(4)\n",
    "\n",
    "cres = music21.dynamics.Crescendo(one)\n",
    "\n",
    "s = music21.stream.Score(id='mainScore')\n",
    "p0 = music21.stream.Part(id='part0')\n",
    "\n",
    "m01 = music21.stream.Measure(number=1)\n",
    "\n",
    "m01.append(music21.dynamics.Dynamic('pp'))\n",
    "m01.append(one)\n",
    "m01.append(music21.dynamics.Dynamic('f'))\n",
    "m01.append(two)\n",
    "m01.append(cres)\n",
    "m01.append(rest)\n",
    "\n",
    "for i in range(10):\n",
    "    mezura = deepcopy(m01)\n",
    "    if i % 3 == 2:\n",
    "        mezura.append(music21.layout.SystemLayout(isNew=True))\n",
    "    p0.append(mezura)\n",
    "\n",
    "tempo = music21.tempo.MetronomeMark(referent=1.0, number=90.0)\n",
    "p0.measure(1).insert(tempo)\n",
    "p0.insert(0, music21.meter.TimeSignature('5/4'))\n",
    "s.insert(0, p0)\n",
    "s.show()"
   ]
  },
  {
   "cell_type": "code",
   "execution_count": null,
   "id": "b8758f4e",
   "metadata": {},
   "outputs": [],
   "source": [
    "one.seconds"
   ]
  },
  {
   "cell_type": "code",
   "execution_count": null,
   "id": "c8b81777",
   "metadata": {},
   "outputs": [],
   "source": [
    "scale = music21.scale."
   ]
  },
  {
   "cell_type": "code",
   "execution_count": null,
   "id": "a90bca5f",
   "metadata": {},
   "outputs": [],
   "source": [
    "verdi = music21.corpus.parse('verdi/laDonnaEMobile')\n",
    "verdi.id = 'verdi'\n",
    "verdi.show()"
   ]
  },
  {
   "cell_type": "code",
   "execution_count": null,
   "id": "3a17ce4b",
   "metadata": {},
   "outputs": [],
   "source": []
  }
 ],
 "metadata": {
  "kernelspec": {
   "display_name": "Python 3 (ipykernel)",
   "language": "python",
   "name": "python3"
  },
  "language_info": {
   "codemirror_mode": {
    "name": "ipython",
    "version": 3
   },
   "file_extension": ".py",
   "mimetype": "text/x-python",
   "name": "python",
   "nbconvert_exporter": "python",
   "pygments_lexer": "ipython3",
   "version": "3.10.8"
  }
 },
 "nbformat": 4,
 "nbformat_minor": 5
}
